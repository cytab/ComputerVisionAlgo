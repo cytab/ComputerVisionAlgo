{
  "nbformat": 4,
  "nbformat_minor": 0,
  "metadata": {
    "colab": {
      "provenance": [],
      "collapsed_sections": [
        "8bPvyMtXIMJj",
        "y2rRptJBIVrW",
        "ZEyP0983Ie4m",
        "b9AgHvVPwTEc",
        "XuW-4k9GbS8B",
        "dxZXCNGOQFZs",
        "uuZKyP6IAkI2",
        "JQaFV2q6_R9w",
        "Blx25uIoAru2",
        "2irHG7wlBWGG",
        "Hg7TpkP7ECQ3",
        "VKz4UiidCm4L",
        "-B_o2eBSCsu6",
        "hr4Kje2fDmdf",
        "xI-tB5fTDnbE",
        "sKRr5grTFFCD"
      ]
    },
    "kernelspec": {
      "name": "python3",
      "display_name": "Python 3"
    },
    "language_info": {
      "name": "python"
    }
  },
  "cells": [
    {
      "cell_type": "markdown",
      "source": [
        "# Imports"
      ],
      "metadata": {
        "id": "8bPvyMtXIMJj"
      }
    },
    {
      "cell_type": "code",
      "execution_count": null,
      "metadata": {
        "id": "7vDi6Nfbogrg"
      },
      "outputs": [],
      "source": [
        "import time\n",
        "import pickle\n",
        "import numpy as np\n",
        "import pandas as pd\n",
        "import matplotlib.pyplot as plt\n",
        "import cv2 as cv\n",
        "import imutils\n",
        "import math as mth\n",
        "import os\n",
        "\n",
        "from google.colab.patches import cv2_imshow\n",
        "from skimage.io import imread_collection\n",
        "from scipy.spatial import distance as dist\n",
        "from os import listdir\n",
        "\n",
        "######## HOG ########################\n",
        "from skimage.io import imread\n",
        "from skimage.transform import resize\n",
        "from skimage.feature import hog\n",
        "from skimage import exposure\n",
        "#######################################"
      ]
    },
    {
      "cell_type": "markdown",
      "source": [
        "# Load images query and database"
      ],
      "metadata": {
        "id": "y2rRptJBIVrW"
      }
    },
    {
      "cell_type": "code",
      "source": [
        "from google.colab import drive\n",
        "drive.mount('/content/drive', force_remount= True)"
      ],
      "metadata": {
        "id": "PQaWz8Dt0iIr"
      },
      "execution_count": null,
      "outputs": []
    },
    {
      "cell_type": "code",
      "source": [
        "# Mettre le chemin du dossier contenant les images requêtes avec le dossier database à l'intérieur\n",
        "dir_query = 'drive/MyDrive/Colab Notebooks/TP1_data'\n",
        "dir_data  = 'drive/MyDrive/Colab Notebooks/TP1_data/database'\n",
        "\n",
        "name_query = list()\n",
        "name_data  = list()\n",
        "\n",
        "################# read images name   #########################\n",
        "for images in os.listdir(dir_query):\n",
        "    if (images.endswith(\".jpg\")):\n",
        "        name_query.append(images)\n",
        "        \n",
        "name_query.sort()\n",
        "\n",
        "\n",
        "for images in os.listdir(dir_data):\n",
        "    if (images.endswith(\".jpg\")):\n",
        "        name_data.append(images)\n",
        "\n",
        "name_data.sort()        \n",
        "###############################################################\n"
      ],
      "metadata": {
        "id": "GzQ-oL-Dphde"
      },
      "execution_count": null,
      "outputs": []
    },
    {
      "cell_type": "code",
      "source": [
        "# Vérification du chemin\n",
        "os.chdir(dir_query)\n",
        "cwd = os.getcwd()\n",
        "print(cwd)"
      ],
      "metadata": {
        "id": "hHmoma9IpKPp"
      },
      "execution_count": null,
      "outputs": []
    },
    {
      "cell_type": "code",
      "source": [
        "################## Read images into a dict ###########################\n",
        "images_query = {}\n",
        "images_data  = {}\n",
        "\n",
        "# dir_query = '*jpg'\n",
        "for name in name_query:\n",
        "    tmp = cv.imread(name)\n",
        "    img = cv.cvtColor(tmp, cv.COLOR_BGR2RGB)\n",
        "    images_query[name] = img\n",
        "\n",
        "\n",
        "dir_data = 'database/'\n",
        "for name in name_data:\n",
        "    tmp = cv.imread((dir_data + name))\n",
        "    img = cv.cvtColor(tmp, cv.COLOR_BGR2RGB)\n",
        "    images_data[name] = img\n",
        "\n",
        "# col_data = imread_collection(dir_data, as_gray = True)\n",
        "\n",
        "######################################################################"
      ],
      "metadata": {
        "id": "o4KyVx1MESLO"
      },
      "execution_count": null,
      "outputs": []
    },
    {
      "cell_type": "code",
      "source": [
        "# plt.imshow(images_query['cat_query.jpg'])"
      ],
      "metadata": {
        "id": "VBtWdHG31iTr"
      },
      "execution_count": null,
      "outputs": []
    },
    {
      "cell_type": "markdown",
      "source": [
        "# Images modification functions"
      ],
      "metadata": {
        "id": "ZEyP0983Ie4m"
      }
    },
    {
      "cell_type": "code",
      "source": [
        "# Source :\n",
        "# https://www.pyimagesearch.com/2021/02/03/opencv-image-translation/\n",
        "# ------------------------------------------------------------------\n",
        "def ImageTranslation(image):\n",
        "    T = np.float32([[1,0,50], \n",
        "                   [0,1,50]])\n",
        "\n",
        "    shiftedImage = cv.warpAffine(image, T, (image.shape[1], image.shape[0]))\n",
        "\n",
        "    return shiftedImage"
      ],
      "metadata": {
        "id": "xgpAD4qfIkuI"
      },
      "execution_count": null,
      "outputs": []
    },
    {
      "cell_type": "code",
      "source": [
        "# Source :\n",
        "# https://www.programmerall.com/article/10721831285/\n",
        "# ------------------------------------------------------------------\n",
        "def ImageGaussianNoise(image, mean, var):\n",
        "    \n",
        "    image = np.array(image/255, dtype=float)\n",
        "\n",
        "    noise = np.random.normal(mean, var ** 0.5, image.shape)\n",
        "\n",
        "    imageNoisy = image + noise\n",
        "\n",
        "    imageNoisy = np.clip(imageNoisy, 0, 1)\n",
        "\n",
        "    imageNoisy = np.uint8(imageNoisy*255)\n",
        "    \n",
        "    return imageNoisy"
      ],
      "metadata": {
        "id": "53o6GqzMJfCY"
      },
      "execution_count": null,
      "outputs": []
    },
    {
      "cell_type": "code",
      "source": [
        "# Source :\n",
        "# https://www.pyimagesearch.com/2021/01/20/opencv-rotate-image/\n",
        "# ------------------------------------------------------------------\n",
        "def ImageRotation(image, angle):    \n",
        "    # grab the dimensions of the image and calculate the center of the\n",
        "    # image\n",
        "    # (h, w) = image.shape[:2]\n",
        "    # (cX, cY) = (w // 2, h // 2)\n",
        "\n",
        "    # rotate our image by 45 degrees around the center of the image\n",
        "    # RotationMatrix = cv.getRotationMatrix2D((cX, cY), angle, 1.0)\n",
        "    \n",
        "    # imageRotated = cv.warpAffine(image, RotationMatrix, (w, h))\n",
        "\n",
        "    imageRotated = imutils.rotate_bound(image, angle)\n",
        "\n",
        "    return imageRotated"
      ],
      "metadata": {
        "id": "1OweDQTAWhZ9"
      },
      "execution_count": null,
      "outputs": []
    },
    {
      "cell_type": "code",
      "source": [
        "def ImageGrayScaled(image):\n",
        "    return cv.cvtColor(image, cv.COLOR_BGR2GRAY) "
      ],
      "metadata": {
        "id": "D248udN_lcY6"
      },
      "execution_count": null,
      "outputs": []
    },
    {
      "cell_type": "code",
      "source": [
        "plt.figure()\n",
        "# plt.imshow(ImageGaussianNoise(images_query['airplane_query.jpg'], 0, 1))\n",
        "# plt.imshow(ImageRotation(images_query['car_query.jpg'], 45))\n",
        "# plt.imshow(ImageGrayScaled(images_query['face_query.jpg']), cmap=\"gray\")\n",
        "plt.imshow(images_query['face_query.jpg'])\n",
        "# plt.savefig('face_query' + '.png')"
      ],
      "metadata": {
        "id": "K_h4lZLM9LQa"
      },
      "execution_count": null,
      "outputs": []
    },
    {
      "cell_type": "markdown",
      "source": [
        "# Histogramme de couleurs"
      ],
      "metadata": {
        "id": "b9AgHvVPwTEc"
      }
    },
    {
      "cell_type": "markdown",
      "source": [
        "Fonction pour calculer l'histogramme de couleur."
      ],
      "metadata": {
        "id": "Xy-GLQjf70Ed"
      }
    },
    {
      "cell_type": "code",
      "source": [
        "# Développé par l'équipe (Louis-Philippe et Cyrille)\n",
        "def PlotHistogram(blue, green, red, imageName):\n",
        "    plt.figure()\n",
        "    plt.title(\"Histogramme de couleur de l'image \" + imageName)\n",
        "\n",
        "    plt.hist(blue, bins=255, color = \"blue\", alpha = 0.33, density=True)\n",
        "    plt.hist(green, bins=255, color = \"green\", alpha = 0.33, density=True)\n",
        "    plt.hist(red, bins=255, color = \"red\", alpha = 0.33, density=True)\n",
        "\n",
        "    plt.xlabel('valeurs des pixels')\n",
        "    plt.ylabel('Probabilité')\n",
        "    plt.grid()\n",
        "    plt.xlim([0,256])\n",
        "    # Y_max = (np.concatenate((blue,green,red), axis=None)).max()\n",
        "    # plt.ylim([0, Y_max])\n",
        "    plt.show()\n",
        "    plt.savefig('imageName' + '.png')\n",
        "\n",
        "def ColorHistogram(image, imageName):\n",
        "    #image = cv.imread(imageName)\n",
        "\n",
        "    blue  = image[:,:,0].flatten()\n",
        "    green = image[:,:,1].flatten()\n",
        "    red   = image[:,:,2].flatten()\n",
        "\n",
        "    PlotHistogram(blue, green, red, imageName)\n",
        "\n",
        "\n",
        "##########################################\n",
        "# Basé sur le code du Github de Gabilodeau \n",
        "# Source : https://github.com/gabilodeau/INF6804/blob/master/ColorHisto.ipynb\n",
        "# Source pour la fonction normalize :\n",
        "# https://theailearner.com/2019/08/13/comparing-histograms-using-opencv-python/\n",
        "# ------------------------------------------------------------------------------\n",
        "def ColorHistogramGabilodeau(image, imageName):\n",
        "    #image = cv.imread(imageName)\n",
        "\n",
        "    color = ('b','g','r')\n",
        "    plt.figure()\n",
        "    for i, col in enumerate(color):\n",
        "        hist = cv.calcHist([image], [i], None, [8], [0,256])\n",
        "        #cv.normalize(hist, hist, alpha=0, beta=1, norm_type=cv.NORM_MINMAX);\n",
        "        hist = cv.normalize(hist, hist).flatten()\n",
        "        plt.plot(hist, color = col)\n",
        "    \n",
        "    plt.grid()\n",
        "    plt.title(\"Histogramme de couleur de l'image \" + imageName)\n",
        "    plt.xlim([0,8])    \n",
        "    plt.show()"
      ],
      "metadata": {
        "id": "MhrI7VdD7y-Z"
      },
      "execution_count": null,
      "outputs": []
    },
    {
      "cell_type": "markdown",
      "source": [
        "Présentation des résultats des histogramme de couleur pour les images query"
      ],
      "metadata": {
        "id": "gzo7zYYAq9iH"
      }
    },
    {
      "cell_type": "code",
      "source": [
        "# Show Color histogram of the airplane_query\n",
        "ColorHistogram(images_query['airplane_query.jpg'], 'airplane_query.jpg')\n",
        "\n",
        "# Show Color histogram of the strawberry_query\n",
        "ColorHistogram(images_query['strawberry_query.jpg'], 'strawberry_query.jpg')\n",
        "ColorHistogramGabilodeau(images_query['strawberry_query.jpg'], 'strawberry_query.jpg')\n",
        "# Show Color histogram of the ball_query\n",
        "ColorHistogramGabilodeau(images_query['ball_query.jpg'], 'ball_query.jpg')\n",
        "\n",
        "# Show Color histogram of the lotus_query\n",
        "ColorHistogramGabilodeau(images_query['lotus_query.jpg'], 'lotus_query.jpg')\n",
        "\n",
        "# Show Color histogram of the car_query\n",
        "ColorHistogramGabilodeau(images_query['car_query.jpg'], 'car_query.jpg')\n",
        "\n",
        "# Show Color histogram of the cat_query\n",
        "ColorHistogramGabilodeau(images_query['cat_query.jpg'], 'cat_query.jpg')\n",
        "\n",
        "# Show Color histogram of the face_query\n",
        "ColorHistogramGabilodeau(images_query['face_query.jpg'], 'face_query.jpg')\n",
        "\n",
        "# Show Color histogram of the dolphin_query\n",
        "ColorHistogramGabilodeau(images_query['dolphin_query.jpg'], 'dolphin_query.jpg')"
      ],
      "metadata": {
        "id": "vdfi0ha0wVdV"
      },
      "execution_count": null,
      "outputs": []
    },
    {
      "cell_type": "markdown",
      "source": [
        "# Histogramme de gradients orientés HOG"
      ],
      "metadata": {
        "id": "XuW-4k9GbS8B"
      }
    },
    {
      "cell_type": "code",
      "source": [
        "def Gradient(image, visualize=True):\n",
        "    # image     = cv.imread(imageName)\n",
        "    grayImage = cv.cvtColor(image, cv.COLOR_BGR2GRAY)\n",
        "    \n",
        "    laplacian = cv.Laplacian(grayImage, cv.CV_64F)\n",
        "\n",
        "    if visualize is True:\n",
        "        plt.figure()\n",
        "        plt.axis(\"off\")\n",
        "        plt.title(\"Laplacian\")\n",
        "        plt.imshow(laplacian, cmap=\"gray\")\n",
        "    else:\n",
        "        return laplacian \n",
        "\n",
        "# Source :\n",
        "# https://www.thepythoncode.com/article/hog-feature-extraction-in-python#:~:text=The%20Histogram%20of%20Oriented%20Gradients%20%28HOG%29%20is%20a,portion%20of%20an%20image%20or%20region%20of%20interest.\n",
        "# -----------------------------------------------------------------------------\n",
        "def HogHistogramm(img , visualize=True):\n",
        "    # resizing image\n",
        "    # resized_img = resize(img, (img.shape[0]*4, img.shape[1]*4))\n",
        "    resized_img = resize(img, (320*4, 280*4))\n",
        "    \n",
        "    #creating hog feature\n",
        "    fd, hog_image = hog(resized_img, orientations=9, pixels_per_cell=(8, 8),\n",
        "                        cells_per_block=(2, 2), visualize=True, multichannel=True)\n",
        "    if visualize is True:\n",
        "        plt.figure()\n",
        "        plt.axis(\"off\")\n",
        "        #plt.title(\"Histogramme de gradients orientés HOG \" + imageName)\n",
        "        plt.imshow(hog_image, cmap=\"gray\")\n",
        "    else:\n",
        "        return fd\n"
      ],
      "metadata": {
        "id": "DEUTWZOHIEr4"
      },
      "execution_count": null,
      "outputs": []
    },
    {
      "cell_type": "code",
      "source": [
        "## test######################################\n",
        "# Gradient(images_query['airplane_query.jpg'])\n",
        "HogHistogramm(images_query['airplane_query.jpg'])\n",
        "HogHistogramm(images_query['strawberry_query.jpg'])\n",
        "#############################################"
      ],
      "metadata": {
        "id": "l11RM4qpFe52"
      },
      "execution_count": null,
      "outputs": []
    },
    {
      "cell_type": "markdown",
      "source": [
        "# Function Comparaison Query Database (Color Histogram - hog)"
      ],
      "metadata": {
        "id": "dxZXCNGOQFZs"
      }
    },
    {
      "cell_type": "code",
      "source": [
        "# source :\n",
        "# https://www.pyimagesearch.com/2014/07/14/3-ways-compare-histograms-using-opencv-python/#download-the-code\n",
        "# ------------------------------------------------------------------------------\n",
        "\n",
        "def CompareHistWithDatabase(name_query , hist_query , index_data, method, resultImageName,\n",
        "                            reverse=True, hog=False):\n",
        "\n",
        "    # Declaration of the dictionary result to hold the computation.\n",
        "    results = dict()\n",
        "    phrase  = \"\"\n",
        "\n",
        "    # Fill the result dictionary with the histogram distance computation\n",
        "    for (k, hist) in index_data.items():\n",
        "        # HOG calculation similarities\n",
        "        if hog == True:\n",
        "            d = method(hist_query, hist)\n",
        "\n",
        "        # Color histogram calculation similarities\n",
        "        else:\n",
        "            # Airplane works bette with HISTCMP_BHATTACHARYYA\n",
        "            if name_query == 'airplane_query.jpg':\n",
        "                method  = cv.HISTCMP_BHATTACHARYYA\n",
        "                reverse = False\n",
        "\n",
        "            # Adding a case for the strawberry query image\n",
        "            if name_query == 'strawberry_query.jpg':\n",
        "                #range in histograme from 200 to 250\n",
        "                n,  temp, temp1 = plt.hist(hist[0])\n",
        "                n1, temp, temp1 = plt.hist(hist[1])\n",
        "                n2, temp, temp1 = plt.hist(hist[2])\n",
        "                #check if there is no red and green probability between[6,7]\n",
        "                #because the hist expand between 0 to 7\n",
        "                if n[7] > 0.01 and n[7]  < 0.9 and  n1[7] < 0.01 and n2[7] < 0.01 :\n",
        "                    d = cv.compareHist(hist_query, hist, method)\n",
        "                    results[k] = d\n",
        "                else:\n",
        "                    d = 0.000\n",
        "                    results[k] = d\n",
        "                \n",
        "                continue\n",
        "            \n",
        "            d = cv.compareHist(hist_query, hist, method)\n",
        "\n",
        "        results[k] = d\n",
        "\n",
        "    # END for loop ############################################################\n",
        "\n",
        "\n",
        "    # HOG case, sorting the result\n",
        "    if hog == True :\n",
        "        phrase  = \"Result HOG descriptor\"\n",
        "        results = sorted([(v, k) for (k, v) in results.items()])\n",
        "\n",
        "    # Color histogram case, sorting the result\n",
        "    else:\n",
        "        phrase = \"Result Color histogram\"\n",
        "        results = sorted([(v, k) for (k, v) in results.items()], reverse = reverse)\n",
        "\n",
        "    # Printing the image query\n",
        "    plt.figure(name_query)\n",
        "    plt.imshow(images_query[name_query])\n",
        "    plt.axis(\"off\")\n",
        "    # plt.savefig(name_query[:-4] + \".png\")\n",
        "    plt.show()\n",
        "\n",
        "    # Printing the result\n",
        "    fig = plt.figure(phrase)\n",
        "    for (i, (v, k)) in enumerate(results):\n",
        "        # Show only 5 images \n",
        "        if i == 5:\n",
        "            break\n",
        "        elif v !=0 :\n",
        "            ax = fig.add_subplot(2, 3, i + 1 )\n",
        "            ax.set_title(\"%s:\\n %.2f\" % (k, v))\n",
        "            plt.imshow(images_data[k])\n",
        "            plt.axis(\"off\")\n",
        "\n",
        "    fig.tight_layout()\n",
        "    plt.savefig(resultImageName + name_query[:-4] + \".png\")\n",
        "    plt.show()\n",
        "    "
      ],
      "metadata": {
        "id": "jCuIbZLPY7IC"
      },
      "execution_count": null,
      "outputs": []
    },
    {
      "cell_type": "markdown",
      "source": [
        "# Comparaison des histogrammes de couleur des images query avec la database "
      ],
      "metadata": {
        "id": "vghUzeTysMaL"
      }
    },
    {
      "cell_type": "markdown",
      "source": [
        "## **non altérées**"
      ],
      "metadata": {
        "id": "uuZKyP6IAkI2"
      }
    },
    {
      "cell_type": "code",
      "source": [
        "# Source :\n",
        "# https://www.pyimagesearch.com/2014/07/14/3-ways-compare-histograms-using-opencv-python/#download-the-code\n",
        "# ------------------------------------------------------------------\n",
        "\n",
        "\n",
        "# Create a dictionary to hold the color histogram of the pictures\n",
        "ColorHist_query = {}\n",
        "ColorHist_data  = {}\n",
        "\n",
        "# Fill the dictionary created previously\n",
        "for name, image in images_query.items() :\n",
        "    hist = cv.calcHist(image, [0, 1, 2], None, [8, 8, 8], [0, 256, 0, 256, 0, 256])\n",
        "    hist = cv.normalize(hist, hist).flatten()\n",
        "    ColorHist_query[name] = hist\n",
        "\n",
        "for name, image in images_data.items() :\n",
        "    hist = cv.calcHist(image, [0, 1, 2], None, [8, 8, 8],[0, 256, 0, 256, 0, 256])\n",
        "    hist = cv.normalize(hist, hist).flatten()\n",
        "    ColorHist_data[name] = hist\n",
        "\n",
        "# Different method to compare the color histograms\n",
        "method  = cv.HISTCMP_CORREL # This is the best for face recognition \n",
        "# method  = cv.HISTCMP_CHISQR\n",
        "# method  = cv.HISTCMP_CHISQR_ALT # The worst\n",
        "# method  = cv.HISTCMP_INTERSECT\n",
        "# method  = cv.HISTCMP_BHATTACHARYYA\n",
        "# reverse = False\n",
        "reverse = True\n",
        "\n",
        "# Comparing the color histogram of the query image with the dataset images\n",
        "for name, hist in ColorHist_query.items():\n",
        "    CompareHistWithDatabase(name, hist, ColorHist_data, method, \"Result_Color_\", reverse)\n"
      ],
      "metadata": {
        "id": "gsRUSgaMRQNX"
      },
      "execution_count": null,
      "outputs": []
    },
    {
      "cell_type": "markdown",
      "source": [
        "## Cas utilisation 1 : **translation** "
      ],
      "metadata": {
        "id": "JQaFV2q6_R9w"
      }
    },
    {
      "cell_type": "code",
      "source": [
        "# Source :\n",
        "# https://www.pyimagesearch.com/2014/07/14/3-ways-compare-histograms-using-opencv-python/#download-the-code\n",
        "# ------------------------------------------------------------------\n",
        "\n",
        "# Create a dictionary to hold the color histogram of the pictures\n",
        "ColorHist_query = {}\n",
        "ColorHist_data  = {}\n",
        "\n",
        "# Fill the dictionary created previously\n",
        "for name, image in images_query.items() :\n",
        "    image = ImageTranslation(image)\n",
        "    hist  = cv.calcHist(image, [0, 1, 2], None, [8, 8, 8], [0, 256, 0, 256, 0, 256])\n",
        "    hist  = cv.normalize(hist, hist).flatten()\n",
        "    ColorHist_query[name] = hist\n",
        "\n",
        "for name, image in images_data.items() :\n",
        "    hist = cv.calcHist(image, [0, 1, 2], None, [8, 8, 8],[0, 256, 0, 256, 0, 256])\n",
        "    hist = cv.normalize(hist, hist).flatten()\n",
        "    ColorHist_data[name] = hist\n",
        "\n",
        "# Different method to compare the color histograms\n",
        "method  = cv.HISTCMP_CORREL # This is the best for face recognition \n",
        "# method  = cv.HISTCMP_CHISQR\n",
        "# method  = cv.HISTCMP_CHISQR_ALT # The worst\n",
        "# method  = cv.HISTCMP_INTERSECT\n",
        "# method  = cv.HISTCMP_BHATTACHARYYA\n",
        "# reverse = False\n",
        "reverse = True\n",
        "\n",
        "# Comparing the color histogram of the query image with the dataset images\n",
        "for name, hist in ColorHist_query.items():\n",
        "    CompareHistWithDatabase(name, hist, ColorHist_data, method, \"Result_Color_Translation_\", reverse)\n"
      ],
      "metadata": {
        "id": "_m53TMOp_SSC"
      },
      "execution_count": null,
      "outputs": []
    },
    {
      "cell_type": "markdown",
      "source": [
        "## Cas d'utilisation 2: **Gaussian Noice**"
      ],
      "metadata": {
        "id": "Blx25uIoAru2"
      }
    },
    {
      "cell_type": "code",
      "source": [
        "# Source :\n",
        "# https://www.pyimagesearch.com/2014/07/14/3-ways-compare-histograms-using-opencv-python/#download-the-code\n",
        "# ------------------------------------------------------------------\n",
        "\n",
        "# Create a dictionary to hold the color histogram of the pictures\n",
        "ColorHist_query = {}\n",
        "ColorHist_data  = {}\n",
        "\n",
        "# Fill the dictionary created previously\n",
        "for name, image in images_query.items() :\n",
        "    image = ImageGaussianNoise(image, 0 ,0.1)\n",
        "    hist  = cv.calcHist(image, [0, 1, 2], None, [8, 8, 8], [0, 256, 0, 256, 0, 256])\n",
        "    hist  = cv.normalize(hist, hist).flatten()\n",
        "    ColorHist_query[name] = hist\n",
        "\n",
        "for name, image in images_data.items() :\n",
        "    hist = cv.calcHist(image, [0, 1, 2], None, [8, 8, 8],[0, 256, 0, 256, 0, 256])\n",
        "    hist = cv.normalize(hist, hist).flatten()\n",
        "    ColorHist_data[name] = hist\n",
        "\n",
        "# Different method to compare the color histograms\n",
        "method  = cv.HISTCMP_CORREL # This is the best for face recognition \n",
        "# method  = cv.HISTCMP_CHISQR\n",
        "# method  = cv.HISTCMP_CHISQR_ALT # The worst\n",
        "# method  = cv.HISTCMP_INTERSECT\n",
        "# method  = cv.HISTCMP_BHATTACHARYYA\n",
        "# reverse = False\n",
        "reverse = True\n",
        "\n",
        "# Comparing the color histogram of the query image with the dataset images\n",
        "for name, hist in ColorHist_query.items():\n",
        "    CompareHistWithDatabase(name, hist, ColorHist_data, method, \"Result_Color_Noice_\", reverse)\n"
      ],
      "metadata": {
        "id": "F0mnEQAtA30U"
      },
      "execution_count": null,
      "outputs": []
    },
    {
      "cell_type": "markdown",
      "source": [
        "## Cas d'utilisation 3 : **Rotation**"
      ],
      "metadata": {
        "id": "2irHG7wlBWGG"
      }
    },
    {
      "cell_type": "code",
      "source": [
        "# Source :\n",
        "# https://www.pyimagesearch.com/2014/07/14/3-ways-compare-histograms-using-opencv-python/#download-the-code\n",
        "# ------------------------------------------------------------------\n",
        "\n",
        "# Create a dictionary to hold the color histogram of the pictures\n",
        "ColorHist_query = {}\n",
        "ColorHist_data  = {}\n",
        "\n",
        "# Fill the dictionary created previously\n",
        "for name, image in images_query.items() :\n",
        "    image = ImageRotation(image, 45)\n",
        "    hist  = cv.calcHist(image, [0, 1, 2], None, [8, 8, 8], [0, 256, 0, 256, 0, 256])\n",
        "    hist  = cv.normalize(hist, hist).flatten()\n",
        "    ColorHist_query[name] = hist\n",
        "\n",
        "for name, image in images_data.items() :\n",
        "    hist = cv.calcHist(image, [0, 1, 2], None, [8, 8, 8],[0, 256, 0, 256, 0, 256])\n",
        "    hist = cv.normalize(hist, hist).flatten()\n",
        "    ColorHist_data[name] = hist\n",
        "\n",
        "# Different method to compare the color histograms\n",
        "method  = cv.HISTCMP_CORREL # This is the best for face recognition \n",
        "# method  = cv.HISTCMP_CHISQR\n",
        "# method  = cv.HISTCMP_CHISQR_ALT # The worst\n",
        "# method  = cv.HISTCMP_INTERSECT\n",
        "# method  = cv.HISTCMP_BHATTACHARYYA\n",
        "# reverse = False\n",
        "reverse = True\n",
        "\n",
        "# Comparing the color histogram of the query image with the dataset images\n",
        "for name, hist in ColorHist_query.items():\n",
        "    CompareHistWithDatabase(name, hist, ColorHist_data, method, \"Result_Color_Rotation_\", reverse)\n"
      ],
      "metadata": {
        "id": "tG1j6ragBWdd"
      },
      "execution_count": null,
      "outputs": []
    },
    {
      "cell_type": "markdown",
      "source": [
        "## Cas d'utilisation 4 : **GrayScaled**"
      ],
      "metadata": {
        "id": "Hg7TpkP7ECQ3"
      }
    },
    {
      "cell_type": "code",
      "source": [
        "# Source :\n",
        "# https://www.pyimagesearch.com/2014/07/14/3-ways-compare-histograms-using-opencv-python/#download-the-code\n",
        "# ------------------------------------------------------------------\n",
        "\n",
        "# Create a dictionary to hold the color histogram of the pictures\n",
        "ColorHist_query = {}\n",
        "ColorHist_data  = {}\n",
        "\n",
        "# Fill the dictionary created previously\n",
        "for name, image in images_query.items() :\n",
        "    image = ImageGrayScaled(image)\n",
        "    hist  = cv.calcHist(image, [0, 1, 2], None, [8, 8, 8], [0, 256, 0, 256, 0, 256])\n",
        "    hist  = cv.normalize(hist, hist).flatten()\n",
        "    ColorHist_query[name] = hist\n",
        "\n",
        "for name, image in images_data.items() :\n",
        "    hist = cv.calcHist(image, [0, 1, 2], None, [8, 8, 8],[0, 256, 0, 256, 0, 256])\n",
        "    hist = cv.normalize(hist, hist).flatten()\n",
        "    ColorHist_data[name] = hist\n",
        "\n",
        "# Different method to compare the color histograms\n",
        "method  = cv.HISTCMP_CORREL # This is the best for face recognition \n",
        "# method  = cv.HISTCMP_CHISQR\n",
        "# method  = cv.HISTCMP_CHISQR_ALT # The worst\n",
        "# method  = cv.HISTCMP_INTERSECT\n",
        "# method  = cv.HISTCMP_BHATTACHARYYA\n",
        "# reverse = False\n",
        "reverse = True\n",
        "\n",
        "# Comparing the color histogram of the query image with the dataset images\n",
        "for name, hist in ColorHist_query.items():\n",
        "    CompareHistWithDatabase(name, hist, ColorHist_data, method, \"Result_Color_Gray_\", reverse)\n"
      ],
      "metadata": {
        "id": "eQHOkstUEC9R"
      },
      "execution_count": null,
      "outputs": []
    },
    {
      "cell_type": "markdown",
      "source": [
        "# Comparaison des histogrammes de gradient orienté des images query avec la Database (HOG)\n"
      ],
      "metadata": {
        "id": "R8hMnLSPLBo_"
      }
    },
    {
      "cell_type": "markdown",
      "source": [
        "## **Non altérées**"
      ],
      "metadata": {
        "id": "VKz4UiidCm4L"
      }
    },
    {
      "cell_type": "code",
      "source": [
        "# Source :\n",
        "# https://scikit-learn.org/stable/modules/generated/sklearn.metrics.pairwise_distances.html\n",
        "# https://docs.scipy.org/doc/scipy/reference/spatial.distance.html#\n",
        "# -----------------------------------------------------------------------------\n",
        "\n",
        "# Create a dictionary to hold the hog histogram of the pictures\n",
        "HogHist_query = {}\n",
        "HogHist_data  = {}\n",
        "\n",
        "# Fill the dictionary created previously\n",
        "for name, image in images_query.items() :\n",
        "    hist = HogHistogramm(image, visualize=False)\n",
        "    HogHist_query[name] = hist\n",
        "\n",
        "for name, image in images_data.items() :\n",
        "    hist = HogHistogramm(image, visualize=False)\n",
        "    HogHist_data[name] = hist\n",
        "\n",
        "method = dist.euclidean # Best method\n",
        "# method = dist.cityblock\n",
        "# method = dist.chebyshev\n",
        "# method = dist.cosine\n",
        "# mothod = dist.hamming\n",
        "\n",
        "# Comparing the color histogram of the query image with the dataset images\n",
        "for name, hist in HogHist_query.items():\n",
        "    CompareHistWithDatabase(name, hist, HogHist_data, method, \"Result_HOG_\", reverse=True, hog=True)\n",
        "\n"
      ],
      "metadata": {
        "id": "ZoAk86TbLUqG"
      },
      "execution_count": null,
      "outputs": []
    },
    {
      "cell_type": "markdown",
      "source": [
        "## Cas d'utilisation 1 : **Translation**"
      ],
      "metadata": {
        "id": "-B_o2eBSCsu6"
      }
    },
    {
      "cell_type": "code",
      "source": [
        "# Source :\n",
        "# https://scikit-learn.org/stable/modules/generated/sklearn.metrics.pairwise_distances.html\n",
        "# https://docs.scipy.org/doc/scipy/reference/spatial.distance.html#\n",
        "# -----------------------------------------------------------------------------\n",
        "\n",
        "# Create a dictionary to hold the hog histogram of the pictures\n",
        "HogHist_query = {}\n",
        "HogHist_data  = {}\n",
        "\n",
        "# Fill the dictionary created previously\n",
        "for name, image in images_query.items() :\n",
        "    image = ImageTranslation(image)\n",
        "    hist  = HogHistogramm(image, visualize=False)\n",
        "    HogHist_query[name] = hist\n",
        "\n",
        "for name, image in images_data.items() :\n",
        "    hist = HogHistogramm(image, visualize=False)\n",
        "    HogHist_data[name] = hist\n",
        "\n",
        "method = dist.euclidean # Best method\n",
        "# method = dist.cityblock\n",
        "# method = dist.chebyshev\n",
        "# method = dist.cosine\n",
        "# mothod = dist.hamming\n",
        "\n",
        "# Comparing the color histogram of the query image with the dataset images\n",
        "for name, hist in HogHist_query.items():\n",
        "    CompareHistWithDatabase(name, hist, HogHist_data, method, \"Result_HOG_Translation_\", reverse=True, hog=True)\n"
      ],
      "metadata": {
        "id": "Mgd2VLn4C3iG"
      },
      "execution_count": null,
      "outputs": []
    },
    {
      "cell_type": "markdown",
      "source": [
        "## Cas d'utilisation 2 : **Gaussian Noice**"
      ],
      "metadata": {
        "id": "hr4Kje2fDmdf"
      }
    },
    {
      "cell_type": "code",
      "source": [
        "# Source :\n",
        "# https://scikit-learn.org/stable/modules/generated/sklearn.metrics.pairwise_distances.html\n",
        "# https://docs.scipy.org/doc/scipy/reference/spatial.distance.html#\n",
        "# -----------------------------------------------------------------------------\n",
        "\n",
        "# Create a dictionary to hold the hog histogram of the pictures\n",
        "HogHist_query = {}\n",
        "HogHist_data  = {}\n",
        "\n",
        "# Fill the dictionary created previously\n",
        "for name, image in images_query.items() :\n",
        "    image = ImageGaussianNoise(image, 0, 0.1)\n",
        "    hist  = HogHistogramm(image, visualize=False)\n",
        "    HogHist_query[name] = hist\n",
        "\n",
        "for name, image in images_data.items() :\n",
        "    hist = HogHistogramm(image, visualize=False)\n",
        "    HogHist_data[name] = hist\n",
        "\n",
        "method = dist.euclidean # Best method\n",
        "# method = dist.cityblock\n",
        "# method = dist.chebyshev\n",
        "# method = dist.cosine\n",
        "# mothod = dist.hamming\n",
        "\n",
        "# Comparing the color histogram of the query image with the dataset images\n",
        "for name, hist in HogHist_query.items():\n",
        "    CompareHistWithDatabase(name, hist, HogHist_data, method, \"Result_HOG_Noice_\", reverse=True, hog=True)\n"
      ],
      "metadata": {
        "id": "6lXsTCPGDm3X"
      },
      "execution_count": null,
      "outputs": []
    },
    {
      "cell_type": "markdown",
      "source": [
        "## Cas d'utilisation 3 : **Rotation**"
      ],
      "metadata": {
        "id": "xI-tB5fTDnbE"
      }
    },
    {
      "cell_type": "code",
      "source": [
        "# Source :\n",
        "# https://scikit-learn.org/stable/modules/generated/sklearn.metrics.pairwise_distances.html\n",
        "# https://docs.scipy.org/doc/scipy/reference/spatial.distance.html#\n",
        "# -----------------------------------------------------------------------------\n",
        "\n",
        "# Create a dictionary to hold the hog histogram of the pictures\n",
        "HogHist_query = {}\n",
        "HogHist_data  = {}\n",
        "\n",
        "# Fill the dictionary created previously\n",
        "for name, image in images_query.items() :\n",
        "    image = ImageRotation(image, 45)\n",
        "    hist  = HogHistogramm(image, visualize=False)\n",
        "    HogHist_query[name] = hist\n",
        "\n",
        "for name, image in images_data.items() :\n",
        "    hist = HogHistogramm(image, visualize=False)\n",
        "    HogHist_data[name] = hist\n",
        "\n",
        "method = dist.euclidean # Best method\n",
        "# method = dist.cityblock\n",
        "# method = dist.chebyshev\n",
        "# method = dist.cosine\n",
        "# mothod = dist.hamming\n",
        "\n",
        "# Comparing the color histogram of the query image with the dataset images\n",
        "for name, hist in HogHist_query.items():\n",
        "    CompareHistWithDatabase(name, hist, HogHist_data, method, \"Result_HOG_Rotation_\", reverse=True, hog=True)\n"
      ],
      "metadata": {
        "id": "D8NwBKsEDn8y"
      },
      "execution_count": null,
      "outputs": []
    },
    {
      "cell_type": "markdown",
      "source": [
        "## Cas d'utilisation 4 : **GrayScaled**"
      ],
      "metadata": {
        "id": "sKRr5grTFFCD"
      }
    },
    {
      "cell_type": "code",
      "source": [
        "# Source :\n",
        "# https://scikit-learn.org/stable/modules/generated/sklearn.metrics.pairwise_distances.html\n",
        "# https://docs.scipy.org/doc/scipy/reference/spatial.distance.html#\n",
        "# -----------------------------------------------------------------------------\n",
        "\n",
        "# Create a dictionary to hold the hog histogram of the pictures\n",
        "HogHist_query = {}\n",
        "HogHist_data  = {}\n",
        "\n",
        "# Fill the dictionary created previously\n",
        "for name, image in images_query.items() :\n",
        "    image = ImageGrayScaled(image)\n",
        "    hist  = HogHistogramm(image, visualize=False)\n",
        "    HogHist_query[name] = hist\n",
        "\n",
        "for name, image in images_data.items() :\n",
        "    hist = HogHistogramm(image, visualize=False)\n",
        "    HogHist_data[name] = hist\n",
        "\n",
        "method = dist.euclidean # Best method\n",
        "# method = dist.cityblock\n",
        "# method = dist.chebyshev\n",
        "# method = dist.cosine\n",
        "# mothod = dist.hamming\n",
        "\n",
        "# Comparing the color histogram of the query image with the dataset images\n",
        "for name, hist in HogHist_query.items():\n",
        "    CompareHistWithDatabase(name, hist, HogHist_data, method, \"Result_HOG_Gray_\", reverse=True, hog=True)\n"
      ],
      "metadata": {
        "id": "9QAdPVSvFFiP"
      },
      "execution_count": null,
      "outputs": []
    }
  ]
}