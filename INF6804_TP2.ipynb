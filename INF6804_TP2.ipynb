{
  "nbformat": 4,
  "nbformat_minor": 0,
  "metadata": {
    "colab": {
      "provenance": []
    },
    "kernelspec": {
      "name": "python3",
      "display_name": "Python 3"
    },
    "language_info": {
      "name": "python"
    }
  },
  "cells": [
    {
      "cell_type": "markdown",
      "source": [
        "#1 - Import llibrary"
      ],
      "metadata": {
        "id": "8F4hJwvVdZma"
      }
    },
    {
      "cell_type": "code",
      "source": [
        "import numpy as np\n",
        "import cv2\n",
        "import skimage.io\n",
        "import warnings\n",
        "import matplotlib.pyplot as plt\n",
        "from prettytable   import PrettyTable as ptable\n",
        "from google.colab.patches import cv2_imshow"
      ],
      "metadata": {
        "id": "kDoz66OuSSJP"
      },
      "execution_count": null,
      "outputs": []
    },
    {
      "cell_type": "markdown",
      "source": [
        "# 2- File handling"
      ],
      "metadata": {
        "id": "hd298qhAdqWO"
      }
    },
    {
      "cell_type": "markdown",
      "source": [
        "Download  dataset image\n"
      ],
      "metadata": {
        "id": "wWREJIX_04T1"
      }
    },
    {
      "cell_type": "code",
      "source": [
        "import os\n",
        "from google.colab import files\n",
        "original_path = '/content'\n",
        "\n",
        "def mkdir_ifnotexists(dir):\n",
        "    if os.path.exists(dir):\n",
        "        return\n",
        "    os.mkdir(dir)\n",
        "    os.chdir(dir)\n",
        "    print(\"Please upload %d\", dir)\n",
        "    uploaded = files.upload()\n",
        "    os.chdir(original_path)"
      ],
      "metadata": {
        "id": "7DJ3uxIE09Tr"
      },
      "execution_count": null,
      "outputs": []
    },
    {
      "cell_type": "markdown",
      "source": [
        "Création des dossiers"
      ],
      "metadata": {
        "id": "ZdFb5XQM1Ix0"
      }
    },
    {
      "cell_type": "code",
      "source": [
        "\n",
        "soccerball_connnected_pth='./soccerball_connected'\n",
        "breakdance_flare_flou_pth='./breakdance_flare_flou'\n",
        "parkour_apparence_pth='./parkour_apparence'\n",
        "car_roundabout_occulté_pth='./car_roundabout_occulté'\n"
      ],
      "metadata": {
        "id": "X4YRIrEB1dfa"
      },
      "execution_count": null,
      "outputs": []
    },
    {
      "cell_type": "code",
      "source": [
        "mkdir_ifnotexists(soccerball_connnected_pth)\n",
        "mkdir_ifnotexists(breakdance_flare_flou_pth)\n",
        "mkdir_ifnotexists(parkour_apparence_pth)\n",
        "mkdir_ifnotexists(car_roundabout_occulté_pth)"
      ],
      "metadata": {
        "colab": {
          "resources": {
            "http://localhost:8080/nbextensions/google.colab/files.js": {
              "data": "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",
              "ok": true,
              "headers": [
                [
                  "content-type",
                  "application/javascript"
                ]
              ],
              "status": 200,
              "status_text": ""
            }
          },
          "base_uri": "https://localhost:8080/",
          "height": 1000
        },
        "id": "1kkEmWap_-CI",
        "outputId": "b41d8f24-695f-4a2d-c4cf-3e6141c6b991"
      },
      "execution_count": null,
      "outputs": [
        {
          "output_type": "stream",
          "name": "stdout",
          "text": [
            "Please upload %d ./soccerball_connected\n"
          ]
        },
        {
          "output_type": "display_data",
          "data": {
            "text/plain": [
              "<IPython.core.display.HTML object>"
            ],
            "text/html": [
              "\n",
              "     <input type=\"file\" id=\"files-b6b43ea0-1028-429f-a6a1-177bb659b7f9\" name=\"files[]\" multiple disabled\n",
              "        style=\"border:none\" />\n",
              "     <output id=\"result-b6b43ea0-1028-429f-a6a1-177bb659b7f9\">\n",
              "      Upload widget is only available when the cell has been executed in the\n",
              "      current browser session. Please rerun this cell to enable.\n",
              "      </output>\n",
              "      <script src=\"/nbextensions/google.colab/files.js\"></script> "
            ]
          },
          "metadata": {}
        },
        {
          "output_type": "stream",
          "name": "stdout",
          "text": [
            "Saving 00000.jpg to 00000.jpg\n",
            "Saving 00001.jpg to 00001.jpg\n",
            "Saving 00002.jpg to 00002.jpg\n",
            "Saving 00003.jpg to 00003.jpg\n",
            "Saving 00004.jpg to 00004.jpg\n",
            "Saving 00005.jpg to 00005.jpg\n",
            "Saving 00006.jpg to 00006.jpg\n",
            "Saving 00007.jpg to 00007.jpg\n",
            "Saving 00008.jpg to 00008.jpg\n",
            "Saving 00009.jpg to 00009.jpg\n",
            "Saving 00010.jpg to 00010.jpg\n",
            "Saving 00011.jpg to 00011.jpg\n",
            "Saving 00012.jpg to 00012.jpg\n",
            "Saving 00013.jpg to 00013.jpg\n",
            "Saving 00014.jpg to 00014.jpg\n",
            "Saving 00015.jpg to 00015.jpg\n",
            "Saving 00016.jpg to 00016.jpg\n",
            "Saving 00017.jpg to 00017.jpg\n",
            "Saving 00018.jpg to 00018.jpg\n",
            "Saving 00019.jpg to 00019.jpg\n",
            "Saving 00020.jpg to 00020.jpg\n",
            "Saving 00021.jpg to 00021.jpg\n",
            "Saving 00022.jpg to 00022.jpg\n",
            "Saving 00023.jpg to 00023.jpg\n",
            "Saving 00024.jpg to 00024.jpg\n",
            "Saving 00025.jpg to 00025.jpg\n",
            "Saving 00026.jpg to 00026.jpg\n",
            "Saving 00027.jpg to 00027.jpg\n",
            "Saving 00028.jpg to 00028.jpg\n",
            "Saving 00029.jpg to 00029.jpg\n",
            "Saving 00030.jpg to 00030.jpg\n",
            "Saving 00031.jpg to 00031.jpg\n",
            "Saving 00032.jpg to 00032.jpg\n",
            "Saving 00033.jpg to 00033.jpg\n",
            "Saving 00034.jpg to 00034.jpg\n",
            "Saving 00035.jpg to 00035.jpg\n",
            "Saving 00036.jpg to 00036.jpg\n",
            "Saving 00037.jpg to 00037.jpg\n",
            "Saving 00038.jpg to 00038.jpg\n",
            "Saving 00039.jpg to 00039.jpg\n",
            "Saving 00040.jpg to 00040.jpg\n",
            "Saving 00041.jpg to 00041.jpg\n",
            "Saving 00042.jpg to 00042.jpg\n",
            "Saving 00043.jpg to 00043.jpg\n",
            "Saving 00044.jpg to 00044.jpg\n",
            "Saving 00045.jpg to 00045.jpg\n",
            "Saving 00046.jpg to 00046.jpg\n",
            "Saving 00047.jpg to 00047.jpg\n",
            "Please upload %d ./breakdance_flare_flou\n"
          ]
        },
        {
          "output_type": "display_data",
          "data": {
            "text/plain": [
              "<IPython.core.display.HTML object>"
            ],
            "text/html": [
              "\n",
              "     <input type=\"file\" id=\"files-3ea3416b-fb4a-4058-8533-12b5579555eb\" name=\"files[]\" multiple disabled\n",
              "        style=\"border:none\" />\n",
              "     <output id=\"result-3ea3416b-fb4a-4058-8533-12b5579555eb\">\n",
              "      Upload widget is only available when the cell has been executed in the\n",
              "      current browser session. Please rerun this cell to enable.\n",
              "      </output>\n",
              "      <script src=\"/nbextensions/google.colab/files.js\"></script> "
            ]
          },
          "metadata": {}
        },
        {
          "output_type": "stream",
          "name": "stdout",
          "text": [
            "Saving 00000.jpg to 00000.jpg\n",
            "Saving 00001.jpg to 00001.jpg\n",
            "Saving 00002.jpg to 00002.jpg\n",
            "Saving 00003.jpg to 00003.jpg\n",
            "Saving 00004.jpg to 00004.jpg\n",
            "Saving 00005.jpg to 00005.jpg\n",
            "Saving 00006.jpg to 00006.jpg\n",
            "Saving 00007.jpg to 00007.jpg\n",
            "Saving 00008.jpg to 00008.jpg\n",
            "Saving 00009.jpg to 00009.jpg\n",
            "Saving 00010.jpg to 00010.jpg\n",
            "Saving 00011.jpg to 00011.jpg\n",
            "Saving 00012.jpg to 00012.jpg\n",
            "Saving 00013.jpg to 00013.jpg\n",
            "Saving 00014.jpg to 00014.jpg\n",
            "Saving 00015.jpg to 00015.jpg\n",
            "Saving 00016.jpg to 00016.jpg\n",
            "Saving 00017.jpg to 00017.jpg\n",
            "Saving 00018.jpg to 00018.jpg\n",
            "Saving 00019.jpg to 00019.jpg\n",
            "Saving 00020.jpg to 00020.jpg\n",
            "Saving 00021.jpg to 00021.jpg\n",
            "Saving 00022.jpg to 00022.jpg\n",
            "Saving 00023.jpg to 00023.jpg\n",
            "Saving 00024.jpg to 00024.jpg\n",
            "Saving 00025.jpg to 00025.jpg\n",
            "Saving 00026.jpg to 00026.jpg\n",
            "Saving 00027.jpg to 00027.jpg\n",
            "Saving 00028.jpg to 00028.jpg\n",
            "Saving 00029.jpg to 00029.jpg\n",
            "Saving 00030.jpg to 00030.jpg\n",
            "Saving 00031.jpg to 00031.jpg\n",
            "Saving 00032.jpg to 00032.jpg\n",
            "Saving 00033.jpg to 00033.jpg\n",
            "Saving 00034.jpg to 00034.jpg\n",
            "Saving 00035.jpg to 00035.jpg\n",
            "Saving 00036.jpg to 00036.jpg\n",
            "Saving 00037.jpg to 00037.jpg\n",
            "Saving 00038.jpg to 00038.jpg\n",
            "Saving 00039.jpg to 00039.jpg\n",
            "Saving 00040.jpg to 00040.jpg\n",
            "Saving 00041.jpg to 00041.jpg\n",
            "Saving 00042.jpg to 00042.jpg\n",
            "Saving 00043.jpg to 00043.jpg\n",
            "Saving 00044.jpg to 00044.jpg\n",
            "Saving 00045.jpg to 00045.jpg\n",
            "Saving 00046.jpg to 00046.jpg\n",
            "Saving 00047.jpg to 00047.jpg\n",
            "Saving 00048.jpg to 00048.jpg\n",
            "Saving 00049.jpg to 00049.jpg\n",
            "Saving 00050.jpg to 00050.jpg\n",
            "Saving 00051.jpg to 00051.jpg\n",
            "Saving 00052.jpg to 00052.jpg\n",
            "Saving 00053.jpg to 00053.jpg\n",
            "Saving 00054.jpg to 00054.jpg\n",
            "Saving 00055.jpg to 00055.jpg\n",
            "Saving 00056.jpg to 00056.jpg\n",
            "Saving 00057.jpg to 00057.jpg\n",
            "Saving 00058.jpg to 00058.jpg\n",
            "Saving 00059.jpg to 00059.jpg\n",
            "Saving 00060.jpg to 00060.jpg\n",
            "Saving 00061.jpg to 00061.jpg\n",
            "Saving 00062.jpg to 00062.jpg\n",
            "Saving 00063.jpg to 00063.jpg\n",
            "Saving 00064.jpg to 00064.jpg\n",
            "Saving 00065.jpg to 00065.jpg\n",
            "Saving 00066.jpg to 00066.jpg\n",
            "Saving 00067.jpg to 00067.jpg\n",
            "Saving 00068.jpg to 00068.jpg\n",
            "Saving 00069.jpg to 00069.jpg\n",
            "Saving 00070.jpg to 00070.jpg\n",
            "Please upload %d ./parkour_apparence\n"
          ]
        },
        {
          "output_type": "display_data",
          "data": {
            "text/plain": [
              "<IPython.core.display.HTML object>"
            ],
            "text/html": [
              "\n",
              "     <input type=\"file\" id=\"files-a42741a8-9a56-4886-b082-dd579a402ecb\" name=\"files[]\" multiple disabled\n",
              "        style=\"border:none\" />\n",
              "     <output id=\"result-a42741a8-9a56-4886-b082-dd579a402ecb\">\n",
              "      Upload widget is only available when the cell has been executed in the\n",
              "      current browser session. Please rerun this cell to enable.\n",
              "      </output>\n",
              "      <script src=\"/nbextensions/google.colab/files.js\"></script> "
            ]
          },
          "metadata": {}
        },
        {
          "output_type": "stream",
          "name": "stdout",
          "text": [
            "Saving 00000.jpg to 00000.jpg\n",
            "Saving 00001.jpg to 00001.jpg\n",
            "Saving 00002.jpg to 00002.jpg\n",
            "Saving 00003.jpg to 00003.jpg\n",
            "Saving 00004.jpg to 00004.jpg\n",
            "Saving 00005.jpg to 00005.jpg\n",
            "Saving 00006.jpg to 00006.jpg\n",
            "Saving 00007.jpg to 00007.jpg\n",
            "Saving 00008.jpg to 00008.jpg\n",
            "Saving 00009.jpg to 00009.jpg\n",
            "Saving 00010.jpg to 00010.jpg\n",
            "Saving 00011.jpg to 00011.jpg\n",
            "Saving 00012.jpg to 00012.jpg\n",
            "Saving 00013.jpg to 00013.jpg\n",
            "Saving 00014.jpg to 00014.jpg\n",
            "Saving 00015.jpg to 00015.jpg\n",
            "Saving 00016.jpg to 00016.jpg\n",
            "Saving 00017.jpg to 00017.jpg\n",
            "Saving 00018.jpg to 00018.jpg\n",
            "Saving 00019.jpg to 00019.jpg\n",
            "Saving 00020.jpg to 00020.jpg\n",
            "Saving 00021.jpg to 00021.jpg\n",
            "Saving 00022.jpg to 00022.jpg\n",
            "Saving 00023.jpg to 00023.jpg\n",
            "Saving 00024.jpg to 00024.jpg\n",
            "Saving 00025.jpg to 00025.jpg\n",
            "Saving 00026.jpg to 00026.jpg\n",
            "Saving 00027.jpg to 00027.jpg\n",
            "Saving 00028.jpg to 00028.jpg\n",
            "Saving 00029.jpg to 00029.jpg\n",
            "Saving 00030.jpg to 00030.jpg\n",
            "Saving 00031.jpg to 00031.jpg\n",
            "Saving 00032.jpg to 00032.jpg\n",
            "Saving 00033.jpg to 00033.jpg\n",
            "Saving 00034.jpg to 00034.jpg\n",
            "Saving 00035.jpg to 00035.jpg\n",
            "Saving 00036.jpg to 00036.jpg\n",
            "Saving 00037.jpg to 00037.jpg\n",
            "Saving 00038.jpg to 00038.jpg\n",
            "Saving 00039.jpg to 00039.jpg\n",
            "Saving 00040.jpg to 00040.jpg\n",
            "Saving 00041.jpg to 00041.jpg\n",
            "Saving 00042.jpg to 00042.jpg\n",
            "Saving 00043.jpg to 00043.jpg\n",
            "Saving 00044.jpg to 00044.jpg\n",
            "Saving 00045.jpg to 00045.jpg\n",
            "Saving 00046.jpg to 00046.jpg\n",
            "Saving 00047.jpg to 00047.jpg\n",
            "Saving 00048.jpg to 00048.jpg\n",
            "Saving 00049.jpg to 00049.jpg\n",
            "Saving 00050.jpg to 00050.jpg\n",
            "Saving 00051.jpg to 00051.jpg\n",
            "Saving 00052.jpg to 00052.jpg\n",
            "Saving 00053.jpg to 00053.jpg\n",
            "Saving 00054.jpg to 00054.jpg\n",
            "Saving 00055.jpg to 00055.jpg\n",
            "Saving 00056.jpg to 00056.jpg\n",
            "Saving 00057.jpg to 00057.jpg\n",
            "Saving 00058.jpg to 00058.jpg\n",
            "Saving 00059.jpg to 00059.jpg\n",
            "Saving 00060.jpg to 00060.jpg\n",
            "Saving 00061.jpg to 00061.jpg\n",
            "Saving 00062.jpg to 00062.jpg\n",
            "Saving 00063.jpg to 00063.jpg\n",
            "Saving 00064.jpg to 00064.jpg\n",
            "Saving 00065.jpg to 00065.jpg\n",
            "Saving 00066.jpg to 00066.jpg\n",
            "Saving 00067.jpg to 00067.jpg\n",
            "Saving 00068.jpg to 00068.jpg\n",
            "Saving 00069.jpg to 00069.jpg\n",
            "Saving 00070.jpg to 00070.jpg\n",
            "Saving 00071.jpg to 00071.jpg\n",
            "Saving 00072.jpg to 00072.jpg\n",
            "Saving 00073.jpg to 00073.jpg\n",
            "Saving 00074.jpg to 00074.jpg\n",
            "Saving 00075.jpg to 00075.jpg\n",
            "Saving 00076.jpg to 00076.jpg\n",
            "Saving 00077.jpg to 00077.jpg\n",
            "Saving 00078.jpg to 00078.jpg\n",
            "Saving 00079.jpg to 00079.jpg\n",
            "Saving 00080.jpg to 00080.jpg\n",
            "Saving 00081.jpg to 00081.jpg\n",
            "Saving 00082.jpg to 00082.jpg\n",
            "Saving 00083.jpg to 00083.jpg\n",
            "Saving 00084.jpg to 00084.jpg\n",
            "Saving 00085.jpg to 00085.jpg\n",
            "Saving 00086.jpg to 00086.jpg\n",
            "Saving 00087.jpg to 00087.jpg\n",
            "Saving 00088.jpg to 00088.jpg\n",
            "Saving 00089.jpg to 00089.jpg\n",
            "Saving 00090.jpg to 00090.jpg\n",
            "Saving 00091.jpg to 00091.jpg\n",
            "Saving 00092.jpg to 00092.jpg\n",
            "Saving 00093.jpg to 00093.jpg\n",
            "Saving 00094.jpg to 00094.jpg\n",
            "Saving 00095.jpg to 00095.jpg\n",
            "Saving 00096.jpg to 00096.jpg\n",
            "Saving 00097.jpg to 00097.jpg\n",
            "Saving 00098.jpg to 00098.jpg\n",
            "Saving 00099.jpg to 00099.jpg\n",
            "Please upload %d ./car_roundabout_occulté\n"
          ]
        },
        {
          "output_type": "display_data",
          "data": {
            "text/plain": [
              "<IPython.core.display.HTML object>"
            ],
            "text/html": [
              "\n",
              "     <input type=\"file\" id=\"files-f153473a-eef2-4499-962c-c7b8f4eb2ed6\" name=\"files[]\" multiple disabled\n",
              "        style=\"border:none\" />\n",
              "     <output id=\"result-f153473a-eef2-4499-962c-c7b8f4eb2ed6\">\n",
              "      Upload widget is only available when the cell has been executed in the\n",
              "      current browser session. Please rerun this cell to enable.\n",
              "      </output>\n",
              "      <script src=\"/nbextensions/google.colab/files.js\"></script> "
            ]
          },
          "metadata": {}
        },
        {
          "output_type": "stream",
          "name": "stdout",
          "text": [
            "Saving 00000.jpg to 00000.jpg\n",
            "Saving 00001.jpg to 00001.jpg\n",
            "Saving 00002.jpg to 00002.jpg\n",
            "Saving 00003.jpg to 00003.jpg\n",
            "Saving 00004.jpg to 00004.jpg\n",
            "Saving 00005.jpg to 00005.jpg\n",
            "Saving 00006.jpg to 00006.jpg\n",
            "Saving 00007.jpg to 00007.jpg\n",
            "Saving 00008.jpg to 00008.jpg\n",
            "Saving 00009.jpg to 00009.jpg\n",
            "Saving 00010.jpg to 00010.jpg\n",
            "Saving 00011.jpg to 00011.jpg\n",
            "Saving 00012.jpg to 00012.jpg\n",
            "Saving 00013.jpg to 00013.jpg\n",
            "Saving 00014.jpg to 00014.jpg\n",
            "Saving 00015.jpg to 00015.jpg\n",
            "Saving 00016.jpg to 00016.jpg\n",
            "Saving 00017.jpg to 00017.jpg\n",
            "Saving 00018.jpg to 00018.jpg\n",
            "Saving 00019.jpg to 00019.jpg\n",
            "Saving 00020.jpg to 00020.jpg\n",
            "Saving 00021.jpg to 00021.jpg\n",
            "Saving 00022.jpg to 00022.jpg\n",
            "Saving 00023.jpg to 00023.jpg\n",
            "Saving 00024.jpg to 00024.jpg\n",
            "Saving 00025.jpg to 00025.jpg\n",
            "Saving 00026.jpg to 00026.jpg\n",
            "Saving 00027.jpg to 00027.jpg\n",
            "Saving 00028.jpg to 00028.jpg\n",
            "Saving 00029.jpg to 00029.jpg\n",
            "Saving 00030.jpg to 00030.jpg\n",
            "Saving 00031.jpg to 00031.jpg\n",
            "Saving 00032.jpg to 00032.jpg\n",
            "Saving 00033.jpg to 00033.jpg\n",
            "Saving 00034.jpg to 00034.jpg\n",
            "Saving 00035.jpg to 00035.jpg\n",
            "Saving 00036.jpg to 00036.jpg\n",
            "Saving 00037.jpg to 00037.jpg\n",
            "Saving 00038.jpg to 00038.jpg\n",
            "Saving 00039.jpg to 00039.jpg\n",
            "Saving 00040.jpg to 00040.jpg\n",
            "Saving 00041.jpg to 00041.jpg\n",
            "Saving 00042.jpg to 00042.jpg\n",
            "Saving 00043.jpg to 00043.jpg\n",
            "Saving 00044.jpg to 00044.jpg\n",
            "Saving 00045.jpg to 00045.jpg\n",
            "Saving 00046.jpg to 00046.jpg\n",
            "Saving 00047.jpg to 00047.jpg\n",
            "Saving 00048.jpg to 00048.jpg\n",
            "Saving 00049.jpg to 00049.jpg\n",
            "Saving 00050.jpg to 00050.jpg\n",
            "Saving 00051.jpg to 00051.jpg\n",
            "Saving 00052.jpg to 00052.jpg\n",
            "Saving 00053.jpg to 00053.jpg\n",
            "Saving 00054.jpg to 00054.jpg\n",
            "Saving 00055.jpg to 00055.jpg\n",
            "Saving 00056.jpg to 00056.jpg\n",
            "Saving 00057.jpg to 00057.jpg\n",
            "Saving 00058.jpg to 00058.jpg\n",
            "Saving 00059.jpg to 00059.jpg\n",
            "Saving 00060.jpg to 00060.jpg\n",
            "Saving 00061.jpg to 00061.jpg\n",
            "Saving 00062.jpg to 00062.jpg\n",
            "Saving 00063.jpg to 00063.jpg\n",
            "Saving 00064.jpg to 00064.jpg\n",
            "Saving 00065.jpg to 00065.jpg\n",
            "Saving 00066.jpg to 00066.jpg\n",
            "Saving 00067.jpg to 00067.jpg\n",
            "Saving 00068.jpg to 00068.jpg\n",
            "Saving 00069.jpg to 00069.jpg\n",
            "Saving 00070.jpg to 00070.jpg\n",
            "Saving 00071.jpg to 00071.jpg\n",
            "Saving 00072.jpg to 00072.jpg\n",
            "Saving 00073.jpg to 00073.jpg\n",
            "Saving 00074.jpg to 00074.jpg\n"
          ]
        }
      ]
    },
    {
      "cell_type": "markdown",
      "source": [
        "Récupérere les annotation de chacune des vidées choisies"
      ],
      "metadata": {
        "id": "NYGC-GAofhhx"
      }
    },
    {
      "cell_type": "code",
      "source": [
        "annotation_soccerball_connnected_pth='./soccerball_connected_annotation'\n",
        "\n",
        "mkdir_ifnotexists(annotation_soccerball_connnected_pth)\n",
        "\n",
        "annotation_breakdance_flare_flou_pth='./breakdance_flare_flou_annotation'\n",
        "\n",
        "mkdir_ifnotexists(annotation_breakdance_flare_flou_pth)\n",
        "\n",
        "annotation_parkour_apparence_pth='./parkour_apparence_annotation'\n",
        "\n",
        "mkdir_ifnotexists(annotation_parkour_apparence_pth)\n",
        "\n",
        "annotation_car_roundabout_occulté_pth='./car_roundabout_occulté_annotation'\n",
        "\n",
        "mkdir_ifnotexists(annotation_car_roundabout_occulté_pth)"
      ],
      "metadata": {
        "id": "H2ygGz51NTyV",
        "colab": {
          "resources": {
            "http://localhost:8080/nbextensions/google.colab/files.js": {
              "data": "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",
              "ok": true,
              "headers": [
                [
                  "content-type",
                  "application/javascript"
                ]
              ],
              "status": 200,
              "status_text": ""
            }
          },
          "base_uri": "https://localhost:8080/",
          "height": 1000
        },
        "outputId": "f438605f-0f64-4eea-f105-a56016360893"
      },
      "execution_count": null,
      "outputs": [
        {
          "output_type": "stream",
          "name": "stdout",
          "text": [
            "Please upload %d ./soccerball_connected_annotation\n"
          ]
        },
        {
          "output_type": "display_data",
          "data": {
            "text/plain": [
              "<IPython.core.display.HTML object>"
            ],
            "text/html": [
              "\n",
              "     <input type=\"file\" id=\"files-253f2167-766f-4c4b-91ee-32fd7ff4228e\" name=\"files[]\" multiple disabled\n",
              "        style=\"border:none\" />\n",
              "     <output id=\"result-253f2167-766f-4c4b-91ee-32fd7ff4228e\">\n",
              "      Upload widget is only available when the cell has been executed in the\n",
              "      current browser session. Please rerun this cell to enable.\n",
              "      </output>\n",
              "      <script src=\"/nbextensions/google.colab/files.js\"></script> "
            ]
          },
          "metadata": {}
        },
        {
          "output_type": "stream",
          "name": "stdout",
          "text": [
            "Saving 00000.png to 00000.png\n",
            "Saving 00001.png to 00001.png\n",
            "Saving 00002.png to 00002.png\n",
            "Saving 00003.png to 00003.png\n",
            "Saving 00004.png to 00004.png\n",
            "Saving 00005.png to 00005.png\n",
            "Saving 00006.png to 00006.png\n",
            "Saving 00007.png to 00007.png\n",
            "Saving 00008.png to 00008.png\n",
            "Saving 00009.png to 00009.png\n",
            "Saving 00010.png to 00010.png\n",
            "Saving 00011.png to 00011.png\n",
            "Saving 00012.png to 00012.png\n",
            "Saving 00013.png to 00013.png\n",
            "Saving 00014.png to 00014.png\n",
            "Saving 00015.png to 00015.png\n",
            "Saving 00016.png to 00016.png\n",
            "Saving 00017.png to 00017.png\n",
            "Saving 00018.png to 00018.png\n",
            "Saving 00019.png to 00019.png\n",
            "Saving 00020.png to 00020.png\n",
            "Saving 00021.png to 00021.png\n",
            "Saving 00022.png to 00022.png\n",
            "Saving 00023.png to 00023.png\n",
            "Saving 00024.png to 00024.png\n",
            "Saving 00025.png to 00025.png\n",
            "Saving 00026.png to 00026.png\n",
            "Saving 00027.png to 00027.png\n",
            "Saving 00028.png to 00028.png\n",
            "Saving 00029.png to 00029.png\n",
            "Saving 00030.png to 00030.png\n",
            "Saving 00031.png to 00031.png\n",
            "Saving 00032.png to 00032.png\n",
            "Saving 00033.png to 00033.png\n",
            "Saving 00034.png to 00034.png\n",
            "Saving 00035.png to 00035.png\n",
            "Saving 00036.png to 00036.png\n",
            "Saving 00037.png to 00037.png\n",
            "Saving 00038.png to 00038.png\n",
            "Saving 00039.png to 00039.png\n",
            "Saving 00040.png to 00040.png\n",
            "Saving 00041.png to 00041.png\n",
            "Saving 00042.png to 00042.png\n",
            "Saving 00043.png to 00043.png\n",
            "Saving 00044.png to 00044.png\n",
            "Saving 00045.png to 00045.png\n",
            "Saving 00046.png to 00046.png\n",
            "Saving 00047.png to 00047.png\n",
            "Please upload %d ./breakdance_flare_flou_annotation\n"
          ]
        },
        {
          "output_type": "display_data",
          "data": {
            "text/plain": [
              "<IPython.core.display.HTML object>"
            ],
            "text/html": [
              "\n",
              "     <input type=\"file\" id=\"files-3c36fd94-aa82-4227-990e-cd45db4ac247\" name=\"files[]\" multiple disabled\n",
              "        style=\"border:none\" />\n",
              "     <output id=\"result-3c36fd94-aa82-4227-990e-cd45db4ac247\">\n",
              "      Upload widget is only available when the cell has been executed in the\n",
              "      current browser session. Please rerun this cell to enable.\n",
              "      </output>\n",
              "      <script src=\"/nbextensions/google.colab/files.js\"></script> "
            ]
          },
          "metadata": {}
        },
        {
          "output_type": "stream",
          "name": "stdout",
          "text": [
            "Saving 00000.png to 00000.png\n",
            "Saving 00001.png to 00001.png\n",
            "Saving 00002.png to 00002.png\n",
            "Saving 00003.png to 00003.png\n",
            "Saving 00004.png to 00004.png\n",
            "Saving 00005.png to 00005.png\n",
            "Saving 00006.png to 00006.png\n",
            "Saving 00007.png to 00007.png\n",
            "Saving 00008.png to 00008.png\n",
            "Saving 00009.png to 00009.png\n",
            "Saving 00010.png to 00010.png\n",
            "Saving 00011.png to 00011.png\n",
            "Saving 00012.png to 00012.png\n",
            "Saving 00013.png to 00013.png\n",
            "Saving 00014.png to 00014.png\n",
            "Saving 00015.png to 00015.png\n",
            "Saving 00016.png to 00016.png\n",
            "Saving 00017.png to 00017.png\n",
            "Saving 00018.png to 00018.png\n",
            "Saving 00019.png to 00019.png\n",
            "Saving 00020.png to 00020.png\n",
            "Saving 00021.png to 00021.png\n",
            "Saving 00022.png to 00022.png\n",
            "Saving 00023.png to 00023.png\n",
            "Saving 00024.png to 00024.png\n",
            "Saving 00025.png to 00025.png\n",
            "Saving 00026.png to 00026.png\n",
            "Saving 00027.png to 00027.png\n",
            "Saving 00028.png to 00028.png\n",
            "Saving 00029.png to 00029.png\n",
            "Saving 00030.png to 00030.png\n",
            "Saving 00031.png to 00031.png\n",
            "Saving 00032.png to 00032.png\n",
            "Saving 00033.png to 00033.png\n",
            "Saving 00034.png to 00034.png\n",
            "Saving 00035.png to 00035.png\n",
            "Saving 00036.png to 00036.png\n",
            "Saving 00037.png to 00037.png\n",
            "Saving 00038.png to 00038.png\n",
            "Saving 00039.png to 00039.png\n",
            "Saving 00040.png to 00040.png\n",
            "Saving 00041.png to 00041.png\n",
            "Saving 00042.png to 00042.png\n",
            "Saving 00043.png to 00043.png\n",
            "Saving 00044.png to 00044.png\n",
            "Saving 00045.png to 00045.png\n",
            "Saving 00046.png to 00046.png\n",
            "Saving 00047.png to 00047.png\n",
            "Saving 00048.png to 00048.png\n",
            "Saving 00049.png to 00049.png\n",
            "Saving 00050.png to 00050.png\n",
            "Saving 00051.png to 00051.png\n",
            "Saving 00052.png to 00052.png\n",
            "Saving 00053.png to 00053.png\n",
            "Saving 00054.png to 00054.png\n",
            "Saving 00055.png to 00055.png\n",
            "Saving 00056.png to 00056.png\n",
            "Saving 00057.png to 00057.png\n",
            "Saving 00058.png to 00058.png\n",
            "Saving 00059.png to 00059.png\n",
            "Saving 00060.png to 00060.png\n",
            "Saving 00061.png to 00061.png\n",
            "Saving 00062.png to 00062.png\n",
            "Saving 00063.png to 00063.png\n",
            "Saving 00064.png to 00064.png\n",
            "Saving 00065.png to 00065.png\n",
            "Saving 00066.png to 00066.png\n",
            "Saving 00067.png to 00067.png\n",
            "Saving 00068.png to 00068.png\n",
            "Saving 00069.png to 00069.png\n",
            "Saving 00070.png to 00070.png\n",
            "Please upload %d ./parkour_apparence_annotation\n"
          ]
        },
        {
          "output_type": "display_data",
          "data": {
            "text/plain": [
              "<IPython.core.display.HTML object>"
            ],
            "text/html": [
              "\n",
              "     <input type=\"file\" id=\"files-34fa2df1-9aaa-4484-894f-b3b8276d94a8\" name=\"files[]\" multiple disabled\n",
              "        style=\"border:none\" />\n",
              "     <output id=\"result-34fa2df1-9aaa-4484-894f-b3b8276d94a8\">\n",
              "      Upload widget is only available when the cell has been executed in the\n",
              "      current browser session. Please rerun this cell to enable.\n",
              "      </output>\n",
              "      <script src=\"/nbextensions/google.colab/files.js\"></script> "
            ]
          },
          "metadata": {}
        },
        {
          "output_type": "stream",
          "name": "stdout",
          "text": [
            "Saving 00000.png to 00000.png\n",
            "Saving 00001.png to 00001.png\n",
            "Saving 00002.png to 00002.png\n",
            "Saving 00003.png to 00003.png\n",
            "Saving 00004.png to 00004.png\n",
            "Saving 00005.png to 00005.png\n",
            "Saving 00006.png to 00006.png\n",
            "Saving 00007.png to 00007.png\n",
            "Saving 00008.png to 00008.png\n",
            "Saving 00009.png to 00009.png\n",
            "Saving 00010.png to 00010.png\n",
            "Saving 00011.png to 00011.png\n",
            "Saving 00012.png to 00012.png\n",
            "Saving 00013.png to 00013.png\n",
            "Saving 00014.png to 00014.png\n",
            "Saving 00015.png to 00015.png\n",
            "Saving 00016.png to 00016.png\n",
            "Saving 00017.png to 00017.png\n",
            "Saving 00018.png to 00018.png\n",
            "Saving 00019.png to 00019.png\n",
            "Saving 00020.png to 00020.png\n",
            "Saving 00021.png to 00021.png\n",
            "Saving 00022.png to 00022.png\n",
            "Saving 00023.png to 00023.png\n",
            "Saving 00024.png to 00024.png\n",
            "Saving 00025.png to 00025.png\n",
            "Saving 00026.png to 00026.png\n",
            "Saving 00027.png to 00027.png\n",
            "Saving 00028.png to 00028.png\n",
            "Saving 00029.png to 00029.png\n",
            "Saving 00030.png to 00030.png\n",
            "Saving 00031.png to 00031.png\n",
            "Saving 00032.png to 00032.png\n",
            "Saving 00033.png to 00033.png\n",
            "Saving 00034.png to 00034.png\n",
            "Saving 00035.png to 00035.png\n",
            "Saving 00036.png to 00036.png\n",
            "Saving 00037.png to 00037.png\n",
            "Saving 00038.png to 00038.png\n",
            "Saving 00039.png to 00039.png\n",
            "Saving 00040.png to 00040.png\n",
            "Saving 00041.png to 00041.png\n",
            "Saving 00042.png to 00042.png\n",
            "Saving 00043.png to 00043.png\n",
            "Saving 00044.png to 00044.png\n",
            "Saving 00045.png to 00045.png\n",
            "Saving 00046.png to 00046.png\n",
            "Saving 00047.png to 00047.png\n",
            "Saving 00048.png to 00048.png\n",
            "Saving 00049.png to 00049.png\n",
            "Saving 00050.png to 00050.png\n",
            "Saving 00051.png to 00051.png\n",
            "Saving 00052.png to 00052.png\n",
            "Saving 00053.png to 00053.png\n",
            "Saving 00054.png to 00054.png\n",
            "Saving 00055.png to 00055.png\n",
            "Saving 00056.png to 00056.png\n",
            "Saving 00057.png to 00057.png\n",
            "Saving 00058.png to 00058.png\n",
            "Saving 00059.png to 00059.png\n",
            "Saving 00060.png to 00060.png\n",
            "Saving 00061.png to 00061.png\n",
            "Saving 00062.png to 00062.png\n",
            "Saving 00063.png to 00063.png\n",
            "Saving 00064.png to 00064.png\n",
            "Saving 00065.png to 00065.png\n",
            "Saving 00066.png to 00066.png\n",
            "Saving 00067.png to 00067.png\n",
            "Saving 00068.png to 00068.png\n",
            "Saving 00069.png to 00069.png\n",
            "Saving 00070.png to 00070.png\n",
            "Saving 00071.png to 00071.png\n",
            "Saving 00072.png to 00072.png\n",
            "Saving 00073.png to 00073.png\n",
            "Saving 00074.png to 00074.png\n",
            "Saving 00075.png to 00075.png\n",
            "Saving 00076.png to 00076.png\n",
            "Saving 00077.png to 00077.png\n",
            "Saving 00078.png to 00078.png\n",
            "Saving 00079.png to 00079.png\n",
            "Saving 00080.png to 00080.png\n",
            "Saving 00081.png to 00081.png\n",
            "Saving 00082.png to 00082.png\n",
            "Saving 00083.png to 00083.png\n",
            "Saving 00084.png to 00084.png\n",
            "Saving 00085.png to 00085.png\n",
            "Saving 00086.png to 00086.png\n",
            "Saving 00087.png to 00087.png\n",
            "Saving 00088.png to 00088.png\n",
            "Saving 00089.png to 00089.png\n",
            "Saving 00090.png to 00090.png\n",
            "Saving 00091.png to 00091.png\n",
            "Saving 00092.png to 00092.png\n",
            "Saving 00093.png to 00093.png\n",
            "Saving 00094.png to 00094.png\n",
            "Saving 00095.png to 00095.png\n",
            "Saving 00096.png to 00096.png\n",
            "Saving 00097.png to 00097.png\n",
            "Saving 00098.png to 00098.png\n",
            "Saving 00099.png to 00099.png\n",
            "Please upload %d ./car_roundabout_occulté_annotation\n"
          ]
        },
        {
          "output_type": "display_data",
          "data": {
            "text/plain": [
              "<IPython.core.display.HTML object>"
            ],
            "text/html": [
              "\n",
              "     <input type=\"file\" id=\"files-b15e0fbb-0e84-4979-98ab-606e24868bb7\" name=\"files[]\" multiple disabled\n",
              "        style=\"border:none\" />\n",
              "     <output id=\"result-b15e0fbb-0e84-4979-98ab-606e24868bb7\">\n",
              "      Upload widget is only available when the cell has been executed in the\n",
              "      current browser session. Please rerun this cell to enable.\n",
              "      </output>\n",
              "      <script src=\"/nbextensions/google.colab/files.js\"></script> "
            ]
          },
          "metadata": {}
        },
        {
          "output_type": "stream",
          "name": "stdout",
          "text": [
            "Saving 00000.png to 00000.png\n",
            "Saving 00001.png to 00001.png\n",
            "Saving 00002.png to 00002.png\n",
            "Saving 00003.png to 00003.png\n",
            "Saving 00004.png to 00004.png\n",
            "Saving 00005.png to 00005.png\n",
            "Saving 00006.png to 00006.png\n",
            "Saving 00007.png to 00007.png\n",
            "Saving 00008.png to 00008.png\n",
            "Saving 00009.png to 00009.png\n",
            "Saving 00010.png to 00010.png\n",
            "Saving 00011.png to 00011.png\n",
            "Saving 00012.png to 00012.png\n",
            "Saving 00013.png to 00013.png\n",
            "Saving 00014.png to 00014.png\n",
            "Saving 00015.png to 00015.png\n",
            "Saving 00016.png to 00016.png\n",
            "Saving 00017.png to 00017.png\n",
            "Saving 00018.png to 00018.png\n",
            "Saving 00019.png to 00019.png\n",
            "Saving 00020.png to 00020.png\n",
            "Saving 00021.png to 00021.png\n",
            "Saving 00022.png to 00022.png\n",
            "Saving 00023.png to 00023.png\n",
            "Saving 00024.png to 00024.png\n",
            "Saving 00025.png to 00025.png\n",
            "Saving 00026.png to 00026.png\n",
            "Saving 00027.png to 00027.png\n",
            "Saving 00028.png to 00028.png\n",
            "Saving 00029.png to 00029.png\n",
            "Saving 00030.png to 00030.png\n",
            "Saving 00031.png to 00031.png\n",
            "Saving 00032.png to 00032.png\n",
            "Saving 00033.png to 00033.png\n",
            "Saving 00034.png to 00034.png\n",
            "Saving 00035.png to 00035.png\n",
            "Saving 00036.png to 00036.png\n",
            "Saving 00037.png to 00037.png\n",
            "Saving 00038.png to 00038.png\n",
            "Saving 00039.png to 00039.png\n",
            "Saving 00040.png to 00040.png\n",
            "Saving 00041.png to 00041.png\n",
            "Saving 00042.png to 00042.png\n",
            "Saving 00043.png to 00043.png\n",
            "Saving 00044.png to 00044.png\n",
            "Saving 00045.png to 00045.png\n",
            "Saving 00046.png to 00046.png\n",
            "Saving 00047.png to 00047.png\n",
            "Saving 00048.png to 00048.png\n",
            "Saving 00049.png to 00049.png\n",
            "Saving 00050.png to 00050.png\n",
            "Saving 00051.png to 00051.png\n",
            "Saving 00052.png to 00052.png\n",
            "Saving 00053.png to 00053.png\n",
            "Saving 00054.png to 00054.png\n",
            "Saving 00055.png to 00055.png\n",
            "Saving 00056.png to 00056.png\n",
            "Saving 00057.png to 00057.png\n",
            "Saving 00058.png to 00058.png\n",
            "Saving 00059.png to 00059.png\n",
            "Saving 00060.png to 00060.png\n",
            "Saving 00061.png to 00061.png\n",
            "Saving 00062.png to 00062.png\n",
            "Saving 00063.png to 00063.png\n",
            "Saving 00064.png to 00064.png\n",
            "Saving 00065.png to 00065.png\n",
            "Saving 00066.png to 00066.png\n",
            "Saving 00067.png to 00067.png\n",
            "Saving 00068.png to 00068.png\n",
            "Saving 00069.png to 00069.png\n",
            "Saving 00070.png to 00070.png\n",
            "Saving 00071.png to 00071.png\n",
            "Saving 00072.png to 00072.png\n",
            "Saving 00073.png to 00073.png\n",
            "Saving 00074.png to 00074.png\n"
          ]
        }
      ]
    },
    {
      "cell_type": "markdown",
      "source": [
        "Création des listes de noms et d'images des vidées"
      ],
      "metadata": {
        "id": "vKL1DiyVePOA"
      }
    },
    {
      "cell_type": "code",
      "source": [
        "import cv2\n",
        "\n",
        "def file_data2name(path):\n",
        "  nameImage_set = []\n",
        "  for images in os.listdir(path):\n",
        "    if (images.endswith(\".jpg\")):\n",
        "        nameImage_set.append(images)\n",
        "  nameImage_set.sort()\n",
        "  return nameImage_set\n",
        "\n",
        "\n",
        "def file_data2img(imgs_name, path):\n",
        "  imgs = []\n",
        "  for name in imgs_name:\n",
        "    tmp = cv2.imread(path + '/'+ name)\n",
        "    img = cv2.cvtColor(tmp, cv2.COLOR_BGR2RGB)\n",
        "    imgs.append(img)\n",
        "  return imgs\n",
        "  \n",
        "  "
      ],
      "metadata": {
        "id": "eMbPRBSl0Msq"
      },
      "execution_count": null,
      "outputs": []
    },
    {
      "cell_type": "markdown",
      "source": [
        "#3- Code du flow optique"
      ],
      "metadata": {
        "id": "2KZHpHJUeWuN"
      }
    },
    {
      "cell_type": "markdown",
      "source": [
        ".flow to image function"
      ],
      "metadata": {
        "id": "0z9zdiimef0l"
      }
    },
    {
      "cell_type": "code",
      "source": [
        "# source : https://github.com/niconielsen32/ComputerVision/tree/master/opticalFlow\n",
        "def draw_color(flow):\n",
        "  h , w = flow.shape[:2]\n",
        "  fx, fy = flow[:,:,0], flow[:,:,1]\n",
        "\n",
        "  ang = np.arctan2(fy, fy) + np.pi\n",
        "  v = np.sqrt(fx*fx+fy*fy)\n",
        "\n",
        "  hsv = np.zeros((h, w, 3 ), np.uint8)\n",
        "  hsv[...,0] = ang*(180/np.pi/2)\n",
        "  hsv[...,1] = 255\n",
        "  hsv[...,2] = np.minimum(v*4, 255)\n",
        "  bgr = cv2.cvtColor(hsv, cv2.COLOR_HSV2BGR)\n",
        "\n",
        "  return bgr"
      ],
      "metadata": {
        "id": "0NRxpcH_VDL1"
      },
      "execution_count": null,
      "outputs": []
    },
    {
      "cell_type": "markdown",
      "source": [
        "Dataset handling by using pair of images in each file"
      ],
      "metadata": {
        "id": "Plf1UC4lhhuo"
      }
    },
    {
      "cell_type": "code",
      "source": [
        "\n",
        "\n",
        "img_pair = []\n",
        "flow_image = list()\n",
        "flow_name = list()\n",
        "\n",
        "def flow_for_pair(img_pair):\n",
        "  prevgray = cv2.cvtColor(img_pair[0], cv2.COLOR_BGR2GRAY)\n",
        "  actgray = cv2.cvtColor(img_pair[1], cv2.COLOR_BGR2GRAY)\n",
        "\n",
        "  flow = cv2.calcOpticalFlowFarneback(prevgray, actgray, None, 0.5, 3, 15, 3, 5, 1.2, 0)\n",
        "  return draw_color(flow)\n",
        "\n",
        "\n",
        "def flowAllDataSet(path):\n",
        "  name =  file_data2name(path)\n",
        "  images_set = file_data2img(name, path)\n",
        "\n",
        "  ## take pair opf image and return the flow result\n",
        "  for  i in range(0,len(name)):\n",
        "    if i == len(name)-2:\n",
        "      break\n",
        "\n",
        "    img_pair.append(images_set[i])\n",
        "    img_pair.append(images_set[i+1])\n",
        "\n",
        "    flow = flow_for_pair(img_pair)\n",
        "    if i <= 9 :\n",
        "      nme = '0' + str(i)+ \".png\"\n",
        "    else:\n",
        "      nme = str(i)+ \".png\"\n",
        "\n",
        "    flow_image.append(flow)\n",
        "    flow_name.append(nme)\n",
        "\n",
        "    #save flow image in folder output in current path\n",
        "    folder = './output_' + path[2:len(path)]\n",
        "    if not os.path.exists(folder):\n",
        "        os.mkdir(folder)\n",
        "    os.chdir(folder)\n",
        "    cv2.imwrite(nme , flow )\n",
        "    os.chdir(original_path)\n",
        "\n",
        "    #empty list\n",
        "    img_pair.clear()\n",
        "\n",
        "\n",
        "\n",
        "\n",
        "\n",
        "  "
      ],
      "metadata": {
        "id": "oyvmeC1bzCLj"
      },
      "execution_count": null,
      "outputs": []
    },
    {
      "cell_type": "markdown",
      "source": [
        "#4- Résultats du flow optiquie"
      ],
      "metadata": {
        "id": "_vmTKK2Ae0FW"
      }
    },
    {
      "cell_type": "markdown",
      "source": [
        "-- Flot optique pour Mouvement flou"
      ],
      "metadata": {
        "id": "cr-muJpRm1rQ"
      }
    },
    {
      "cell_type": "code",
      "source": [
        "flowAllDataSet(breakdance_flare_flou_pth)"
      ],
      "metadata": {
        "id": "p4LUEh8fm21g"
      },
      "execution_count": null,
      "outputs": []
    },
    {
      "cell_type": "markdown",
      "source": [
        "-- Flot optique pour Objet Connecté"
      ],
      "metadata": {
        "id": "jozOe-xUkGXC"
      }
    },
    {
      "cell_type": "code",
      "source": [
        "flowAllDataSet(soccerball_connnected_pth)"
      ],
      "metadata": {
        "id": "6UWK5nf1WrID"
      },
      "execution_count": null,
      "outputs": []
    },
    {
      "cell_type": "markdown",
      "source": [
        "-- Flot optique pour Objet occulté"
      ],
      "metadata": {
        "id": "Qrt2GrF0kNsh"
      }
    },
    {
      "cell_type": "code",
      "source": [
        "flowAllDataSet(car_roundabout_occulté_pth)"
      ],
      "metadata": {
        "id": "mla9j0upmkrU"
      },
      "execution_count": null,
      "outputs": []
    },
    {
      "cell_type": "markdown",
      "source": [
        "-- Flot optique pour Changement d'apparence"
      ],
      "metadata": {
        "id": "3D6AeaQvkRaR"
      }
    },
    {
      "cell_type": "code",
      "source": [
        "flowAllDataSet(parkour_apparence_pth)"
      ],
      "metadata": {
        "id": "EyPxpPn_mlab"
      },
      "execution_count": null,
      "outputs": []
    },
    {
      "cell_type": "markdown",
      "source": [
        "# 5- Jaccard test and necessity function"
      ],
      "metadata": {
        "id": "1YkIO_ggq96K"
      }
    },
    {
      "cell_type": "markdown",
      "source": [
        "code for jaccard and boundary"
      ],
      "metadata": {
        "id": "GHt9UhecfHp9"
      }
    },
    {
      "cell_type": "code",
      "source": [
        "# source : https://github.com/davisvideochallenge/davis\n",
        "\n",
        "def _load_annotation(fname,img_num=0):\n",
        "  img = skimage.io.imread(fname,as_gray=True)\n",
        "  return img\n",
        "\n",
        "def db_eval_boundary(foreground_mask,gt_mask,bound_th=0.008):\n",
        "\t\"\"\"\n",
        "\tCompute mean,recall and decay from per-frame evaluation.\n",
        "\tCalculates precision/recall for boundaries between foreground_mask and\n",
        "\tgt_mask using morphological operators to speed it up.\n",
        "\tArguments:\n",
        "\t\tforeground_mask (ndarray): binary segmentation image.\n",
        "\t\tgt_mask         (ndarray): binary annotated image.\n",
        "\tReturns:\n",
        "\t\tF (float): boundaries F-measure\n",
        "\t\tP (float): boundaries precision\n",
        "\t\tR (float): boundaries recall\n",
        "\t\"\"\"\n",
        "\tassert np.atleast_3d(foreground_mask).shape[2] == 1\n",
        "\n",
        "\tbound_pix = bound_th if bound_th >= 1 else \\\n",
        "\t\t\tnp.ceil(bound_th*np.linalg.norm(foreground_mask.shape))\n",
        "\n",
        "\t# Get the pixel boundaries of both masks\n",
        "\tfg_boundary = seg2bmap(foreground_mask);\n",
        "\tgt_boundary = seg2bmap(gt_mask);\n",
        "\n",
        "\tfrom skimage.morphology import binary_dilation,disk\n",
        "\n",
        "\tfg_dil = binary_dilation(fg_boundary,disk(bound_pix))\n",
        "\tgt_dil = binary_dilation(gt_boundary,disk(bound_pix))\n",
        "\n",
        "\t# Get the intersection\n",
        "\tgt_match = gt_boundary * fg_dil\n",
        "\tfg_match = fg_boundary * gt_dil\n",
        "\n",
        "\t# Area of the intersection\n",
        "\tn_fg     = np.sum(fg_boundary)\n",
        "\tn_gt     = np.sum(gt_boundary)\n",
        "\n",
        "\t#% Compute precision and recall\n",
        "\tif n_fg == 0 and  n_gt > 0:\n",
        "\t\tprecision = 1\n",
        "\t\trecall = 0\n",
        "\telif n_fg > 0 and n_gt == 0:\n",
        "\t\tprecision = 0\n",
        "\t\trecall = 1\n",
        "\telif n_fg == 0  and n_gt == 0:\n",
        "\t\tprecision = 1\n",
        "\t\trecall = 1\n",
        "\telse:\n",
        "\t\tprecision = np.sum(fg_match)/float(n_fg)\n",
        "\t\trecall    = np.sum(gt_match)/float(n_gt)\n",
        "\n",
        "\t# Compute F measure\n",
        "\tif precision + recall == 0:\n",
        "\t\tF = 0\n",
        "\telse:\n",
        "\t\tF = 2*precision*recall/(precision+recall);\n",
        "\n",
        "\treturn F\n",
        "\n",
        "def seg2bmap(seg,width=None,height=None):\n",
        "\t\"\"\"\n",
        "\tFrom a segmentation, compute a binary boundary map with 1 pixel wide\n",
        "\tboundaries.  The boundary pixels are offset by 1/2 pixel towards the\n",
        "\torigin from the actual segment boundary.\n",
        "\tArguments:\n",
        "\t\tseg     : Segments labeled from 1..k.\n",
        "\t\twidth\t  :\tWidth of desired bmap  <= seg.shape[1]\n",
        "\t\theight  :\tHeight of desired bmap <= seg.shape[0]\n",
        "\tReturns:\n",
        "\t\tbmap (ndarray):\tBinary boundary map.\n",
        "\t David Martin <dmartin@eecs.berkeley.edu>\n",
        "\t January 2003\n",
        " \"\"\"\n",
        "\n",
        "\tseg = seg.astype(np.bool_)\n",
        "\tseg[seg>0] = 1\n",
        "\n",
        "\tassert np.atleast_3d(seg).shape[2] == 1\n",
        "\n",
        "\twidth  = seg.shape[1] if width  is None else width\n",
        "\theight = seg.shape[0] if height is None else height\n",
        "\n",
        "\th,w = seg.shape[:2]\n",
        "\n",
        "\tar1 = float(width) / float(height)\n",
        "\tar2 = float(w) / float(h)\n",
        "\n",
        "\tassert not (width>w | height>h | abs(ar1-ar2)>0.01),\\\n",
        "\t\t\t'Can''t convert %dx%d seg to %dx%d bmap.'%(w,h,width,height)\n",
        "\n",
        "\te  = np.zeros_like(seg)\n",
        "\ts  = np.zeros_like(seg)\n",
        "\tse = np.zeros_like(seg)\n",
        "\n",
        "\te[:,:-1]    = seg[:,1:]\n",
        "\ts[:-1,:]    = seg[1:,:]\n",
        "\tse[:-1,:-1] = seg[1:,1:]\n",
        "\n",
        "\tb        = seg^e | seg^s | seg^se\n",
        "\tb[-1,:]  = seg[-1,:]^e[-1,:]\n",
        "\tb[:,-1]  = seg[:,-1]^s[:,-1]\n",
        "\tb[-1,-1] = 0\n",
        "\n",
        "\tif w == width and h == height:\n",
        "\t\tbmap = b\n",
        "\telse:\n",
        "\t\tbmap = np.zeros((height,width))\n",
        "\t\tfor x in range(w):\n",
        "\t\t\tfor y in range(h):\n",
        "\t\t\t\tif b[y,x]:\n",
        "\t\t\t\t\tj = 1+ floor((y-1)+height / h)\n",
        "\t\t\t\t\ti = 1+ floor((x-1)+width  / h)\n",
        "\t\t\t\t\tbmap[j,i] = 1;\n",
        "\n",
        "\treturn bmap\n",
        "\n",
        "def jaccard(img_annotation, img_segmentation):\n",
        "  img_annotation   = img_annotation.astype(np.bool_)\n",
        "  img_segmentation = img_segmentation.astype(np.bool_)\n",
        "\n",
        "  if np.isclose(np.sum(img_annotation),0) and np.isclose(np.sum(img_segmentation),0):\n",
        "    return 1\n",
        "  else:\n",
        "    return np.sum((img_annotation & img_segmentation)) / \\\n",
        "\t\t\t\tnp.sum((img_annotation | img_segmentation),dtype=np.float32)\n",
        "    \n",
        "def load_annotation_segmentation(annotation_dir , segmentation_dir , func=_load_annotation, ext_an=\".png\"):\n",
        "  mask_set = skimage.io.ImageCollection(segmentation_dir+\"/*%s\"%ext_an, load_func=_load_annotation)\n",
        "  mask = skimage.io.ImageCollection(annotation_dir+\"/*%s\"%ext_an, load_func=_load_annotation)\n",
        "  \n",
        "  return mask_set, mask\n",
        "\n",
        "def db_statistics(per_frame_values):\n",
        "\n",
        "\t\"\"\" Compute mean,recall and decay from per-frame evaluation.\n",
        "\tArguments:\n",
        "\t\tper_frame_values (ndarray): per-frame evaluation\n",
        "\tReturns:\n",
        "\t\tM,O,D (float,float,float):\n",
        "\t\t\treturn evaluation statistics: mean,recall,decay.\n",
        "\t\"\"\"\n",
        "\n",
        "\t# strip off nan values\n",
        "\twith warnings.catch_warnings():\n",
        "\t\twarnings.simplefilter(\"ignore\", category=RuntimeWarning)\n",
        "\t\tM = np.nanmean(per_frame_values)\n",
        "\t\tO = np.nanmean(per_frame_values[1:-1]>0.5)\n",
        "\n",
        "\t# Compute decay as implemented in Matlab\n",
        "\tper_frame_values = per_frame_values[1:-1] # Remove first frame\n",
        "\n",
        "\tN_bins = 4\n",
        "\tids = np.round(np.linspace(1,len(per_frame_values),N_bins+1)+1e-10)-1;\n",
        "\tids = ids.astype(np.uint8)\n",
        "\n",
        "\tD_bins = [per_frame_values[ids[i]:ids[i+1]+1] for i in range(0,4)]\n",
        "\n",
        "\twith warnings.catch_warnings():\n",
        "\t\twarnings.simplefilter(\"ignore\", category=RuntimeWarning)\n",
        "\t\tD = np.nanmean(D_bins[0])-np.nanmean(D_bins[3])\n",
        "\n",
        "\treturn M,O,D\n",
        "    \n",
        "def eval(mask, mask_set ,eval_func=jaccard,measure=\"J\",scale=1):\n",
        "    # and operaton between each mask\n",
        "    annotations = np.array(mask[0:(len(mask)-2)])\n",
        "    for i in range(0, len(mask)):\n",
        "      if i == len(mask)-2:\n",
        "        break\n",
        "      annotations[i] = np.bitwise_and(mask[i], mask[i+1])\n",
        "    \n",
        "    segmentation = mask_set\n",
        "\n",
        "    assert len(annotations) == len(segmentation)\n",
        "\n",
        "    X = np.array([eval_func(an,sg) for an,sg\n",
        "\t\t\t\t\tin zip(annotations,segmentation)])\n",
        "\n",
        "    M,O,D = db_statistics(X)\n",
        "\n",
        "    return X,M,O,D\n"
      ],
      "metadata": {
        "id": "IWyP3dTuq_6Q"
      },
      "execution_count": null,
      "outputs": []
    },
    {
      "cell_type": "markdown",
      "source": [
        "Evaluation of jaccard test or boundary"
      ],
      "metadata": {
        "id": "d9RymZVm8bv_"
      }
    },
    {
      "cell_type": "code",
      "source": [
        "\n",
        "def test_set(sequence_name, annotation_dir, segmentation_dir, j= True):\n",
        "    if j == True:\n",
        "      func = jaccard\n",
        "      print(\"Test of jaccard of \" + sequence_name + \": \")\n",
        "    else:\n",
        "      func = db_eval_boundary\n",
        "      print(\"Test of boundary of \" + sequence_name + \": \")\n",
        "    #mask : annotation et mask_set : segmentation\n",
        "    mask_set , mask = load_annotation_segmentation(annotation_dir, segmentation_dir, _load_annotation, \".png\")\n",
        "    J,Jm,Jo,Jt = eval(mask, mask_set,func,'J', 1)\n",
        "\n",
        "    if j == True:\n",
        "      table = ptable(['Sequence']+['Jm','Jo','Jt'])\n",
        "      f = \"jaccard value per frame\"\n",
        "      c = \"red\"\n",
        "    else:\n",
        "      f = \"Boundary value per frame\"\n",
        "      c = \"blue\"\n",
        "      table = ptable(['Sequence']+['Fm','Fo','Ft'])\n",
        "\n",
        "    table.add_row([sequence_name]+[\"{: .3f}\".format(f) for f in [Jm,Jo,Jt]])\n",
        "    print (\"\\n\" + str(table) + \"\\n\")\n",
        "\n",
        "    x = range(0, len(J))\n",
        "    plt.title(f)\n",
        "    plt.plot(x, J, color=c)\n",
        "\n",
        "    plt.show()"
      ],
      "metadata": {
        "id": "GnXScvnw4T_c"
      },
      "execution_count": null,
      "outputs": []
    },
    {
      "cell_type": "markdown",
      "source": [
        "#6- Résultats des tests"
      ],
      "metadata": {
        "id": "hzxhEgjhfycL"
      }
    },
    {
      "cell_type": "markdown",
      "source": [
        "test pour mouvement flou"
      ],
      "metadata": {
        "id": "r_KfvooD90uU"
      }
    },
    {
      "cell_type": "code",
      "source": [
        "path = soccerball_connnected_pth\n",
        "folder = './output_' + path[2:len(soccerball_connnected_pth)]\n",
        "\n",
        "test_set(\"soccerball\", annotation_soccerball_connnected_pth, folder)\n",
        "\n",
        "test_set(\"soccerball\", annotation_soccerball_connnected_pth, folder, False)"
      ],
      "metadata": {
        "colab": {
          "base_uri": "https://localhost:8080/",
          "height": 832
        },
        "id": "egjIRHni-I79",
        "outputId": "55024bd5-1254-49ab-9999-11b416c897b0"
      },
      "execution_count": null,
      "outputs": [
        {
          "output_type": "stream",
          "name": "stdout",
          "text": [
            "Test of jaccard of soccerball: \n",
            "\n",
            "+------------+--------+--------+--------+\n",
            "|  Sequence  |   Jm   |   Jo   |   Jt   |\n",
            "+------------+--------+--------+--------+\n",
            "| soccerball |  0.013 |  0.000 | -0.003 |\n",
            "+------------+--------+--------+--------+\n",
            "\n"
          ]
        },
        {
          "output_type": "display_data",
          "data": {
            "text/plain": [
              "<Figure size 432x288 with 1 Axes>"
            ],
            "image/png": "[encoded data removed]"
          },
          "metadata": {
            "needs_background": "light"
          }
        },
        {
          "output_type": "stream",
          "name": "stdout",
          "text": [
            "Test of boundary of soccerball: \n",
            "\n",
            "+------------+--------+--------+--------+\n",
            "|  Sequence  |   Fm   |   Fo   |   Ft   |\n",
            "+------------+--------+--------+--------+\n",
            "| soccerball |  0.038 |  0.000 |  0.059 |\n",
            "+------------+--------+--------+--------+\n",
            "\n"
          ]
        },
        {
          "output_type": "display_data",
          "data": {
            "text/plain": [
              "<Figure size 432x288 with 1 Axes>"
            ],
            "image/png": "[encoded data removed]"
          },
          "metadata": {
            "needs_background": "light"
          }
        }
      ]
    },
    {
      "cell_type": "markdown",
      "source": [
        "test pour objet connecté"
      ],
      "metadata": {
        "id": "-fSi75dy91SO"
      }
    },
    {
      "cell_type": "code",
      "source": [
        "path = breakdance_flare_flou_pth\n",
        "folder = './output_' + path[2:len(breakdance_flare_flou_pth)]\n",
        "\n",
        "test_set(\"breakdance_flare\", annotation_breakdance_flare_flou_pth, folder)\n",
        "\n",
        "test_set(\"breakdance_flare\", annotation_breakdance_flare_flou_pth, folder, False)"
      ],
      "metadata": {
        "colab": {
          "base_uri": "https://localhost:8080/",
          "height": 832
        },
        "id": "8MJRGOUX-Jju",
        "outputId": "b2b13f85-7c79-4305-f32d-69c812af2629"
      },
      "execution_count": null,
      "outputs": [
        {
          "output_type": "stream",
          "name": "stdout",
          "text": [
            "Test of jaccard of breakdance_flare: \n",
            "\n",
            "+------------------+--------+--------+--------+\n",
            "|     Sequence     |   Jm   |   Jo   |   Jt   |\n",
            "+------------------+--------+--------+--------+\n",
            "| breakdance_flare |  0.042 |  0.000 |  0.015 |\n",
            "+------------------+--------+--------+--------+\n",
            "\n"
          ]
        },
        {
          "output_type": "display_data",
          "data": {
            "text/plain": [
              "<Figure size 432x288 with 1 Axes>"
            ],
            "image/png": "[encoded data removed]"
          },
          "metadata": {
            "needs_background": "light"
          }
        },
        {
          "output_type": "stream",
          "name": "stdout",
          "text": [
            "Test of boundary of breakdance_flare: \n",
            "\n",
            "+------------------+--------+--------+--------+\n",
            "|     Sequence     |   Fm   |   Fo   |   Ft   |\n",
            "+------------------+--------+--------+--------+\n",
            "| breakdance_flare |  0.062 |  0.000 | -0.010 |\n",
            "+------------------+--------+--------+--------+\n",
            "\n"
          ]
        },
        {
          "output_type": "display_data",
          "data": {
            "text/plain": [
              "<Figure size 432x288 with 1 Axes>"
            ],
            "image/png": "[encoded data removed]"
          },
          "metadata": {
            "needs_background": "light"
          }
        }
      ]
    },
    {
      "cell_type": "markdown",
      "source": [
        "test pour objet occulté"
      ],
      "metadata": {
        "id": "WIX00Zbz91Z5"
      }
    },
    {
      "cell_type": "code",
      "source": [
        "path = parkour_apparence_pth\n",
        "folder = './output_' + path[2:len(parkour_apparence_pth)]\n",
        "\n",
        "test_set(\"parkour\", annotation_parkour_apparence_pth, folder)\n",
        "\n",
        "test_set(\"parkour\", annotation_parkour_apparence_pth, folder, False)"
      ],
      "metadata": {
        "colab": {
          "base_uri": "https://localhost:8080/",
          "height": 832
        },
        "id": "detxSEgX-Kb9",
        "outputId": "335843d5-b663-4b26-8f5f-76d65ee372cc"
      },
      "execution_count": null,
      "outputs": [
        {
          "output_type": "stream",
          "name": "stdout",
          "text": [
            "Test of jaccard of parkour: \n",
            "\n",
            "+----------+--------+--------+--------+\n",
            "| Sequence |   Jm   |   Jo   |   Jt   |\n",
            "+----------+--------+--------+--------+\n",
            "| parkour  |  0.035 |  0.000 | -0.004 |\n",
            "+----------+--------+--------+--------+\n",
            "\n"
          ]
        },
        {
          "output_type": "display_data",
          "data": {
            "text/plain": [
              "<Figure size 432x288 with 1 Axes>"
            ],
            "image/png": "[encoded data removed]"
          },
          "metadata": {
            "needs_background": "light"
          }
        },
        {
          "output_type": "stream",
          "name": "stdout",
          "text": [
            "Test of boundary of parkour: \n",
            "\n",
            "+----------+--------+--------+--------+\n",
            "| Sequence |   Fm   |   Fo   |   Ft   |\n",
            "+----------+--------+--------+--------+\n",
            "| parkour  |  0.057 |  0.000 | -0.078 |\n",
            "+----------+--------+--------+--------+\n",
            "\n"
          ]
        },
        {
          "output_type": "display_data",
          "data": {
            "text/plain": [
              "<Figure size 432x288 with 1 Axes>"
            ],
            "image/png": "[encoded data removed]"
          },
          "metadata": {
            "needs_background": "light"
          }
        }
      ]
    },
    {
      "cell_type": "markdown",
      "source": [
        "test pour changement d'apparence"
      ],
      "metadata": {
        "id": "AxZEtUvH91_Y"
      }
    },
    {
      "cell_type": "code",
      "source": [
        "path = car_roundabout_occulté_pth\n",
        "folder = './output_' + path[2:len(car_roundabout_occulté_pth)]\n",
        "\n",
        "test_set(\"car-roundabout\", annotation_car_roundabout_occulté_pth, folder)\n",
        "\n",
        "test_set(\"car-roundabout\", annotation_car_roundabout_occulté_pth, folder, False)"
      ],
      "metadata": {
        "colab": {
          "base_uri": "https://localhost:8080/",
          "height": 832
        },
        "id": "nMRa-s8N-LO4",
        "outputId": "0c32f91e-0d6b-4f02-d569-c5a66207333a"
      },
      "execution_count": null,
      "outputs": [
        {
          "output_type": "stream",
          "name": "stdout",
          "text": [
            "Test of jaccard of car-roundabout: \n",
            "\n",
            "+----------------+--------+--------+--------+\n",
            "|    Sequence    |   Jm   |   Jo   |   Jt   |\n",
            "+----------------+--------+--------+--------+\n",
            "| car-roundabout |  0.134 |  0.000 |  0.053 |\n",
            "+----------------+--------+--------+--------+\n",
            "\n"
          ]
        },
        {
          "output_type": "display_data",
          "data": {
            "text/plain": [
              "<Figure size 432x288 with 1 Axes>"
            ],
            "image/png": "[encoded data removed]"
          },
          "metadata": {
            "needs_background": "light"
          }
        },
        {
          "output_type": "stream",
          "name": "stdout",
          "text": [
            "Test of boundary of car-roundabout: \n",
            "\n",
            "+----------------+--------+--------+--------+\n",
            "|    Sequence    |   Fm   |   Fo   |   Ft   |\n",
            "+----------------+--------+--------+--------+\n",
            "| car-roundabout |  0.046 |  0.000 |  0.012 |\n",
            "+----------------+--------+--------+--------+\n",
            "\n"
          ]
        },
        {
          "output_type": "display_data",
          "data": {
            "text/plain": [
              "<Figure size 432x288 with 1 Axes>"
            ],
            "image/png": "[encoded data removed]"
          },
          "metadata": {
            "needs_background": "light"
          }
        }
      ]
    }
  ]
}